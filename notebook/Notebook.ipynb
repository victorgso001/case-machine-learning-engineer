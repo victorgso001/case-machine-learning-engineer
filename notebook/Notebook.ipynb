{
 "cells": [
  {
   "cell_type": "markdown",
   "id": "6f9df827",
   "metadata": {},
   "source": [
    "# Case - Machine Learning Engineer - PicPay"
   ]
  },
  {
   "cell_type": "markdown",
   "id": "594a9b66",
   "metadata": {},
   "source": [
    "Este material tem por objetivo trazer uma análise dos dados disponibilizados para o case técnico relativo ao processo de preenchimento de vaga de machine learning engineer. Neste trabalho, serão disponibilizados os processamentos necessários para a resposta das perguntas fornecidas, bem como a análise de métricas para a criação do modelo utilizado na API."
   ]
  },
  {
   "cell_type": "markdown",
   "id": "c743764b",
   "metadata": {},
   "source": [
    "## Importando Base de Dados"
   ]
  },
  {
   "cell_type": "code",
   "execution_count": 1,
   "id": "9739aafe",
   "metadata": {},
   "outputs": [
    {
     "data": {
      "text/plain": [
       "True"
      ]
     },
     "execution_count": 1,
     "metadata": {},
     "output_type": "execute_result"
    }
   ],
   "source": [
    "from pyspark.sql.functions import (\n",
    "    isnan, col, desc, mean, count, row_number,\n",
    "    min, max, concat_ws, to_date, date_format,\n",
    "    broadcast\n",
    ")\n",
    "from pyspark.sql.window import Window\n",
    "from pyspark.sql import SparkSession\n",
    "import zipfile\n",
    "import os\n",
    "import requests\n",
    "import time\n",
    "from dotenv import load_dotenv\n",
    "\n",
    "load_dotenv()"
   ]
  },
  {
   "cell_type": "code",
   "execution_count": 2,
   "id": "72faf8e7",
   "metadata": {},
   "outputs": [
    {
     "name": "stderr",
     "output_type": "stream",
     "text": [
      "WARNING: Using incubator modules: jdk.incubator.vector\n",
      "Using Spark's default log4j profile: org/apache/spark/log4j2-defaults.properties\n",
      "25/10/25 09:46:14 WARN Utils: Your hostname, Notebook, resolves to a loopback address: 127.0.1.1; using 10.255.255.254 instead (on interface lo)\n",
      "25/10/25 09:46:14 WARN Utils: Set SPARK_LOCAL_IP if you need to bind to another address\n",
      "Using Spark's default log4j profile: org/apache/spark/log4j2-defaults.properties\n",
      "Setting default log level to \"WARN\".\n",
      "To adjust logging level use sc.setLogLevel(newLevel). For SparkR, use setLogLevel(newLevel).\n",
      "25/10/25 09:46:15 WARN NativeCodeLoader: Unable to load native-hadoop library for your platform... using builtin-java classes where applicable\n"
     ]
    }
   ],
   "source": [
    "spark=SparkSession.builder.config(\n",
    "    \"spark.driver.bindAddress\", \"localhost\"\n",
    "    ).config(\n",
    "        \"spark.network.timeout\",\"10000000\"\n",
    "    ).config(\n",
    "        \"spark.executor.heartbeatInterval\", \"10000000\"\n",
    "    ).appName(\"MLE Case\").getOrCreate()"
   ]
  },
  {
   "cell_type": "code",
   "execution_count": 5,
   "id": "ad79596a",
   "metadata": {},
   "outputs": [],
   "source": [
    "filepath = os.path.join(os.getcwd(), \"airports-database.zip\")\n",
    "\n",
    "with zipfile.ZipFile(filepath, 'r') as zip_file:\n",
    "    zip_file.extractall()"
   ]
  },
  {
   "cell_type": "code",
   "execution_count": 8,
   "id": "5e44efcb",
   "metadata": {},
   "outputs": [
    {
     "name": "stderr",
     "output_type": "stream",
     "text": [
      "                                                                                \r"
     ]
    },
    {
     "name": "stdout",
     "output_type": "stream",
     "text": [
      "+---+----+-----+---+--------+--------------+---------+--------+--------------+---------+-------+------+-------+------+----+--------+--------+----+------+-------------------+--------------------+\n",
      "| id|year|month|day|dep_time|sched_dep_time|dep_delay|arr_time|sched_arr_time|arr_delay|carrier|flight|tailnum|origin|dest|air_time|distance|hour|minute|          time_hour|                name|\n",
      "+---+----+-----+---+--------+--------------+---------+--------+--------------+---------+-------+------+-------+------+----+--------+--------+----+------+-------------------+--------------------+\n",
      "|  0|2013|    1|  1|   517.0|           515|      2.0|   830.0|           819|     11.0|     UA|  1545| N14228|   EWR| IAH|   227.0|    1400|   5|    15|2013-01-01 05:00:00|United Air Lines ...|\n",
      "|  1|2013|    1|  1|   533.0|           529|      4.0|   850.0|           830|     20.0|     UA|  1714| N24211|   LGA| IAH|   227.0|    1416|   5|    29|2013-01-01 05:00:00|United Air Lines ...|\n",
      "|  2|2013|    1|  1|   542.0|           540|      2.0|   923.0|           850|     33.0|     AA|  1141| N619AA|   JFK| MIA|   160.0|    1089|   5|    40|2013-01-01 05:00:00|American Airlines...|\n",
      "|  3|2013|    1|  1|   544.0|           545|     -1.0|  1004.0|          1022|    -18.0|     B6|   725| N804JB|   JFK| BQN|   183.0|    1576|   5|    45|2013-01-01 05:00:00|     JetBlue Airways|\n",
      "|  4|2013|    1|  1|   554.0|           600|     -6.0|   812.0|           837|    -25.0|     DL|   461| N668DN|   LGA| ATL|   116.0|     762|   6|     0|2013-01-01 06:00:00|Delta Air Lines Inc.|\n",
      "|  5|2013|    1|  1|   554.0|           558|     -4.0|   740.0|           728|     12.0|     UA|  1696| N39463|   EWR| ORD|   150.0|     719|   5|    58|2013-01-01 05:00:00|United Air Lines ...|\n",
      "|  6|2013|    1|  1|   555.0|           600|     -5.0|   913.0|           854|     19.0|     B6|   507| N516JB|   EWR| FLL|   158.0|    1065|   6|     0|2013-01-01 06:00:00|     JetBlue Airways|\n",
      "|  7|2013|    1|  1|   557.0|           600|     -3.0|   709.0|           723|    -14.0|     EV|  5708| N829AS|   LGA| IAD|    53.0|     229|   6|     0|2013-01-01 06:00:00|ExpressJet Airlin...|\n",
      "|  8|2013|    1|  1|   557.0|           600|     -3.0|   838.0|           846|     -8.0|     B6|    79| N593JB|   JFK| MCO|   140.0|     944|   6|     0|2013-01-01 06:00:00|     JetBlue Airways|\n",
      "|  9|2013|    1|  1|   558.0|           600|     -2.0|   753.0|           745|      8.0|     AA|   301| N3ALAA|   LGA| ORD|   138.0|     733|   6|     0|2013-01-01 06:00:00|American Airlines...|\n",
      "| 10|2013|    1|  1|   558.0|           600|     -2.0|   849.0|           851|     -2.0|     B6|    49| N793JB|   JFK| PBI|   149.0|    1028|   6|     0|2013-01-01 06:00:00|     JetBlue Airways|\n",
      "| 11|2013|    1|  1|   558.0|           600|     -2.0|   853.0|           856|     -3.0|     B6|    71| N657JB|   JFK| TPA|   158.0|    1005|   6|     0|2013-01-01 06:00:00|     JetBlue Airways|\n",
      "| 12|2013|    1|  1|   558.0|           600|     -2.0|   924.0|           917|      7.0|     UA|   194| N29129|   JFK| LAX|   345.0|    2475|   6|     0|2013-01-01 06:00:00|United Air Lines ...|\n",
      "| 13|2013|    1|  1|   558.0|           600|     -2.0|   923.0|           937|    -14.0|     UA|  1124| N53441|   EWR| SFO|   361.0|    2565|   6|     0|2013-01-01 06:00:00|United Air Lines ...|\n",
      "| 14|2013|    1|  1|   559.0|           600|     -1.0|   941.0|           910|     31.0|     AA|   707| N3DUAA|   LGA| DFW|   257.0|    1389|   6|     0|2013-01-01 06:00:00|American Airlines...|\n",
      "| 15|2013|    1|  1|   559.0|           559|      0.0|   702.0|           706|     -4.0|     B6|  1806| N708JB|   JFK| BOS|    44.0|     187|   5|    59|2013-01-01 05:00:00|     JetBlue Airways|\n",
      "| 16|2013|    1|  1|   559.0|           600|     -1.0|   854.0|           902|     -8.0|     UA|  1187| N76515|   EWR| LAS|   337.0|    2227|   6|     0|2013-01-01 06:00:00|United Air Lines ...|\n",
      "| 17|2013|    1|  1|   600.0|           600|      0.0|   851.0|           858|     -7.0|     B6|   371| N595JB|   LGA| FLL|   152.0|    1076|   6|     0|2013-01-01 06:00:00|     JetBlue Airways|\n",
      "| 18|2013|    1|  1|   600.0|           600|      0.0|   837.0|           825|     12.0|     MQ|  4650| N542MQ|   LGA| ATL|   134.0|     762|   6|     0|2013-01-01 06:00:00|           Envoy Air|\n",
      "| 19|2013|    1|  1|   601.0|           600|      1.0|   844.0|           850|     -6.0|     B6|   343| N644JB|   EWR| PBI|   147.0|    1023|   6|     0|2013-01-01 06:00:00|     JetBlue Airways|\n",
      "+---+----+-----+---+--------+--------------+---------+--------+--------------+---------+-------+------+-------+------+----+--------+--------+----+------+-------------------+--------------------+\n",
      "only showing top 20 rows\n"
     ]
    }
   ],
   "source": [
    "csv_filepath = os.path.join(os.getcwd(), \"airports-database.csv\")\n",
    "\n",
    "df = spark.read.csv(csv_filepath, header=True, inferSchema=True)\n",
    "\n",
    "df.show()"
   ]
  },
  {
   "cell_type": "code",
   "execution_count": 8,
   "id": "a5b061f5",
   "metadata": {},
   "outputs": [
    {
     "name": "stdout",
     "output_type": "stream",
     "text": [
      "root\n",
      " |-- id: integer (nullable = true)\n",
      " |-- year: integer (nullable = true)\n",
      " |-- month: integer (nullable = true)\n",
      " |-- day: integer (nullable = true)\n",
      " |-- dep_time: double (nullable = true)\n",
      " |-- sched_dep_time: integer (nullable = true)\n",
      " |-- dep_delay: double (nullable = true)\n",
      " |-- arr_time: double (nullable = true)\n",
      " |-- sched_arr_time: integer (nullable = true)\n",
      " |-- arr_delay: double (nullable = true)\n",
      " |-- carrier: string (nullable = true)\n",
      " |-- flight: integer (nullable = true)\n",
      " |-- tailnum: string (nullable = true)\n",
      " |-- origin: string (nullable = true)\n",
      " |-- dest: string (nullable = true)\n",
      " |-- air_time: double (nullable = true)\n",
      " |-- distance: integer (nullable = true)\n",
      " |-- hour: integer (nullable = true)\n",
      " |-- minute: integer (nullable = true)\n",
      " |-- time_hour: timestamp (nullable = true)\n",
      " |-- name: string (nullable = true)\n",
      "\n"
     ]
    }
   ],
   "source": [
    "df.printSchema()"
   ]
  },
  {
   "cell_type": "code",
   "execution_count": 9,
   "id": "106552ba",
   "metadata": {},
   "outputs": [
    {
     "name": "stderr",
     "output_type": "stream",
     "text": [
      "                                                                                \r"
     ]
    },
    {
     "data": {
      "text/plain": [
       "336776"
      ]
     },
     "execution_count": 9,
     "metadata": {},
     "output_type": "execute_result"
    }
   ],
   "source": [
    "df.count()"
   ]
  },
  {
   "cell_type": "markdown",
   "id": "2b593de6",
   "metadata": {},
   "source": [
    "## Respostas das perguntas"
   ]
  },
  {
   "cell_type": "markdown",
   "id": "790d40b5",
   "metadata": {},
   "source": [
    "#### 1. Qual o número total de voos no conjunto de dados?"
   ]
  },
  {
   "cell_type": "code",
   "execution_count": 10,
   "id": "0fa9834b",
   "metadata": {},
   "outputs": [
    {
     "data": {
      "text/plain": [
       "3844"
      ]
     },
     "execution_count": 10,
     "metadata": {},
     "output_type": "execute_result"
    }
   ],
   "source": [
    "distinct_flights = df.select('flight').distinct()\n",
    "\n",
    "distinct_flights.dropDuplicates().count()"
   ]
  },
  {
   "cell_type": "markdown",
   "id": "31dc585a",
   "metadata": {},
   "source": [
    "Portanto, o número total é de 3844 voos."
   ]
  },
  {
   "cell_type": "markdown",
   "id": "1fff4543",
   "metadata": {},
   "source": [
    "#### 2. Quantos voos foram cancelados?"
   ]
  },
  {
   "cell_type": "code",
   "execution_count": 11,
   "id": "3ccd8d2d",
   "metadata": {},
   "outputs": [
    {
     "data": {
      "text/plain": [
       "8255"
      ]
     },
     "execution_count": 11,
     "metadata": {},
     "output_type": "execute_result"
    }
   ],
   "source": [
    "\n",
    "df.filter(\n",
    "    (isnan(col('dep_time')) | col('dep_time').isNull()) &\n",
    "    (isnan(col('arr_time')) | col('arr_time').isNull())\n",
    ").count()"
   ]
  },
  {
   "cell_type": "markdown",
   "id": "de2e8339",
   "metadata": {},
   "source": [
    "O número de voos cancelados, considerando a situação onde tanto a coluna `arr_time` quanto `dep_time` são nulos é de 8255 vôos."
   ]
  },
  {
   "cell_type": "markdown",
   "id": "f8bb09b6",
   "metadata": {},
   "source": [
    "#### 3. Quais são os 5 aeroportos com maior número de pousos?"
   ]
  },
  {
   "cell_type": "code",
   "execution_count": 12,
   "id": "b8fdf032",
   "metadata": {},
   "outputs": [
    {
     "name": "stdout",
     "output_type": "stream",
     "text": [
      "5 aeroportos com maior número de pousos:\n"
     ]
    },
    {
     "name": "stderr",
     "output_type": "stream",
     "text": [
      "[Stage 15:==============>                                           (1 + 3) / 4]\r"
     ]
    },
    {
     "name": "stdout",
     "output_type": "stream",
     "text": [
      "+----+-----+\n",
      "|dest|count|\n",
      "+----+-----+\n",
      "| ORD|17283|\n",
      "| ATL|17215|\n",
      "| LAX|16174|\n",
      "| BOS|15508|\n",
      "| MCO|14082|\n",
      "+----+-----+\n",
      "only showing top 5 rows\n"
     ]
    },
    {
     "name": "stderr",
     "output_type": "stream",
     "text": [
      "                                                                                \r"
     ]
    }
   ],
   "source": [
    "res = df.groupBy('dest').count().orderBy(desc('count'))\n",
    "\n",
    "print(\"5 aeroportos com maior número de pousos:\")\n",
    "res.show(5)"
   ]
  },
  {
   "cell_type": "markdown",
   "id": "7f84db66",
   "metadata": {},
   "source": [
    "Assim, temos que os aeroportos com maior número de pousos são: O'Hare International Airport, em Chicago, EUA; Hartsfield-Jackson Atlanta International Airport, em Atlanta, EUA; Los Angeles International Airport, em Los Angeles, EUA; Logan International Airport, em Boston, EUA; Orlando International Airport, em Orlando, EUA."
   ]
  },
  {
   "cell_type": "markdown",
   "id": "ff1c8e5a",
   "metadata": {},
   "source": [
    "#### 4. Qual a rota mais frequente (par origin-dest)?"
   ]
  },
  {
   "cell_type": "code",
   "execution_count": 13,
   "id": "65ced32e",
   "metadata": {},
   "outputs": [
    {
     "name": "stdout",
     "output_type": "stream",
     "text": [
      "+------+----+-----+\n",
      "|origin|dest|count|\n",
      "+------+----+-----+\n",
      "|   JFK| LAX|11262|\n",
      "+------+----+-----+\n",
      "only showing top 1 row\n"
     ]
    }
   ],
   "source": [
    "df.groupBy(['origin', 'dest']).count().orderBy(desc('count')).show(1)"
   ]
  },
  {
   "cell_type": "markdown",
   "id": "cd384289",
   "metadata": {},
   "source": [
    "Portanto, temos que a rota mais frequênte parte do John F. Kennedy International Airport, em Nova Iorque, EUA, com destino ao Los Angeles International Airport, Los Angeles, EUA."
   ]
  },
  {
   "cell_type": "markdown",
   "id": "4e28617d",
   "metadata": {},
   "source": [
    "#### 5. Quais são as 5 companhias aéreas com maior tempo médio de atraso na chegada?"
   ]
  },
  {
   "cell_type": "code",
   "execution_count": 14,
   "id": "39f5b2a1",
   "metadata": {},
   "outputs": [
    {
     "name": "stdout",
     "output_type": "stream",
     "text": [
      "+-------+------------------+\n",
      "|carrier|        mean_delay|\n",
      "+-------+------------------+\n",
      "|     F9|21.920704845814978|\n",
      "|     FL|20.115905511811025|\n",
      "|     EV| 15.79643108710965|\n",
      "|     YV|15.556985294117647|\n",
      "|     OO|11.931034482758621|\n",
      "+-------+------------------+\n",
      "only showing top 5 rows\n"
     ]
    }
   ],
   "source": [
    "df.groupBy('carrier')\\\n",
    "    .agg(mean('arr_delay').alias('mean_delay'))\\\n",
    "    .orderBy(col('mean_delay').desc()).show(5)\n"
   ]
  },
  {
   "cell_type": "markdown",
   "id": "0aa007b1",
   "metadata": {},
   "source": [
    "Temos evidências de que as 5 companhias aéreas com maior tempo médio de atraso na chegada são:\n",
    "1. Frontier Airlines;\n",
    "2. Fly Play;\n",
    "3. EVA Air;\n",
    "4. Mesa Airlines;\n",
    "5. SkyWest Airlines."
   ]
  },
  {
   "cell_type": "markdown",
   "id": "e812a8dd",
   "metadata": {},
   "source": [
    "#### 6. Qual é o dia da semana com maior número de vôos?"
   ]
  },
  {
   "cell_type": "code",
   "execution_count": 15,
   "id": "75a725cf",
   "metadata": {},
   "outputs": [
    {
     "name": "stderr",
     "output_type": "stream",
     "text": [
      "[Stage 24:>                                                         (0 + 4) / 4]\r"
     ]
    },
    {
     "name": "stdout",
     "output_type": "stream",
     "text": [
      "+---------+-------------+\n",
      "|  weekday|count_weekday|\n",
      "+---------+-------------+\n",
      "|   Monday|        50690|\n",
      "|  Tuesday|        50422|\n",
      "|   Friday|        50308|\n",
      "| Thursday|        50219|\n",
      "|Wednesday|        50060|\n",
      "|   Sunday|        46357|\n",
      "| Saturday|        38720|\n",
      "+---------+-------------+\n",
      "\n"
     ]
    },
    {
     "name": "stderr",
     "output_type": "stream",
     "text": [
      "                                                                                \r"
     ]
    }
   ],
   "source": [
    "date_df = df.select('year', 'month', 'day').withColumn('date_as_str', concat_ws('-', 'year', 'month', 'day'))\n",
    "date_df = date_df.withColumn('date', to_date('date_as_str', 'yyyy-M-d'))\n",
    "date_df = date_df.withColumn('weekday', date_format('date', 'EEEE'))\n",
    "date_df = date_df.groupBy('weekday').agg(count('*').alias('count_weekday')).orderBy(desc('count_weekday'))\n",
    "date_df.show()"
   ]
  },
  {
   "cell_type": "markdown",
   "id": "c7dfd3af",
   "metadata": {},
   "source": [
    "Portanto, o dia da semana com maior número de voos é a Segunda-Feira."
   ]
  },
  {
   "cell_type": "markdown",
   "id": "2b889ab7",
   "metadata": {},
   "source": [
    "#### 7. Qual a rota que teve maior tempo de vôo médio (air_time)?"
   ]
  },
  {
   "cell_type": "code",
   "execution_count": 16,
   "id": "ab4053ab",
   "metadata": {},
   "outputs": [
    {
     "name": "stderr",
     "output_type": "stream",
     "text": [
      "[Stage 27:=============================>                            (2 + 2) / 4]\r"
     ]
    },
    {
     "name": "stdout",
     "output_type": "stream",
     "text": [
      "+------+----+-----------------+\n",
      "|origin|dest|    mean_air_time|\n",
      "+------+----+-----------------+\n",
      "|   JFK| HNL|623.0877192982456|\n",
      "+------+----+-----------------+\n",
      "only showing top 1 row\n"
     ]
    },
    {
     "name": "stderr",
     "output_type": "stream",
     "text": [
      "                                                                                \r"
     ]
    }
   ],
   "source": [
    "df.groupBy(['origin', 'dest']).agg(mean('air_time').alias('mean_air_time')).orderBy(desc('mean_air_time')).show(1)"
   ]
  },
  {
   "cell_type": "markdown",
   "id": "b1e254d9",
   "metadata": {},
   "source": [
    "A rota com maior tempo de vôo médio é a que parte do John F. Kennedy International Airport, em Nova Iorque, EUA, com destino ao Honolulu International Airport, Honolulu, EUA"
   ]
  },
  {
   "cell_type": "markdown",
   "id": "9da342af",
   "metadata": {},
   "source": [
    "#### 8. Para cada aeroporto de origem, qual é o aeroporto de destino mais comum?"
   ]
  },
  {
   "cell_type": "code",
   "execution_count": 17,
   "id": "e4ee927b",
   "metadata": {},
   "outputs": [
    {
     "name": "stdout",
     "output_type": "stream",
     "text": [
      "+------+----+----------+\n",
      "|origin|dest|count_dest|\n",
      "+------+----+----------+\n",
      "|   EWR| ORD|      6100|\n",
      "|   JFK| LAX|     11262|\n",
      "|   LGA| ATL|     10263|\n",
      "+------+----+----------+\n",
      "\n"
     ]
    }
   ],
   "source": [
    "count_dest = df.groupBy('origin', 'dest').agg(count('*').alias('count_dest'))\n",
    "window_func = Window.partitionBy('origin').orderBy(col('count_dest').desc())\n",
    "\n",
    "wind_count_dest = count_dest.withColumn('pos', row_number().over(window_func))\n",
    "\n",
    "most_common_dest = wind_count_dest.filter(col('pos') == 1).drop('pos')\n",
    "\n",
    "most_common_dest.show()"
   ]
  },
  {
   "cell_type": "markdown",
   "id": "3657c376",
   "metadata": {},
   "source": [
    "Daí, é possível verificar que o destino mais comum é:\n",
    "* O'Hare International Airport, Chicaco, EUA quando saindo de Newark Liberty Airport, Newark, EUA;\n",
    "* John F. Kennedy International Airport, Nova Iorque, EUA quando saindo de Los Angeles International Airport, Los Angeles, EUA;\n",
    "* Atlantic City International Airport, Atlantic City, EUA quando saindo de LaGuardia Airport, Nova Iorque, EUA."
   ]
  },
  {
   "cell_type": "markdown",
   "id": "60602def",
   "metadata": {},
   "source": [
    "#### 9. Quais são as 3 rotas que tiveram maior variação no tempo médio de voo (air_time)?"
   ]
  },
  {
   "cell_type": "code",
   "execution_count": 18,
   "id": "2ff75073",
   "metadata": {},
   "outputs": [
    {
     "name": "stdout",
     "output_type": "stream",
     "text": [
      "+------+----+--------+--------+---------+\n",
      "|origin|dest|min_time|max_time|variation|\n",
      "+------+----+--------+--------+---------+\n",
      "|   JFK| SFO|   301.0|   490.0|    189.0|\n",
      "|   JFK| LAX|   275.0|   440.0|    165.0|\n",
      "|   JFK| EGE|   219.0|   382.0|    163.0|\n",
      "+------+----+--------+--------+---------+\n",
      "only showing top 3 rows\n"
     ]
    },
    {
     "name": "stderr",
     "output_type": "stream",
     "text": [
      "                                                                                \r"
     ]
    }
   ],
   "source": [
    "df.groupBy('origin', 'dest')\\\n",
    "    .agg(\n",
    "        min('air_time').alias('min_time'),\n",
    "        max('air_time').alias('max_time')\n",
    "    ).withColumn('variation', col('max_time') - col('min_time'))\\\n",
    "    .orderBy(col('variation').desc()).show(3)"
   ]
  },
  {
   "cell_type": "markdown",
   "id": "5d0f2492",
   "metadata": {},
   "source": [
    "Assim, temos as rotas com maior variação no tempo de vôo sendo:\n",
    "* John F. Kennedy International Airport até San Francisco International Airport;\n",
    "* John F. Kennedy International Airport até Los Angeles International Airport;\n",
    "* John F. Kennedy International Airport até Eagle County Regional Airport."
   ]
  },
  {
   "cell_type": "markdown",
   "id": "9cd29ed8",
   "metadata": {},
   "source": [
    "#### 10. Quais são as 3 rotas mais comuns que tiveram atrasos na chegada superiores a 30 minutos?"
   ]
  },
  {
   "cell_type": "code",
   "execution_count": 19,
   "id": "f29646ad",
   "metadata": {},
   "outputs": [
    {
     "name": "stdout",
     "output_type": "stream",
     "text": [
      "+------+----+-----+\n",
      "|origin|dest|delay|\n",
      "+------+----+-----+\n",
      "|   JFK| LAX|11159|\n",
      "|   LGA| ATL|10041|\n",
      "|   LGA| ORD| 8507|\n",
      "+------+----+-----+\n",
      "only showing top 3 rows\n"
     ]
    }
   ],
   "source": [
    "df.groupby('origin', 'dest').agg(count(col('arr_delay') > 30).alias('delay')).orderBy(desc('delay')).show(3)"
   ]
  },
  {
   "cell_type": "markdown",
   "id": "ee7c5080",
   "metadata": {},
   "source": [
    "Portanto, as rotas são:\n",
    "* John F. Kennedy International Airport até Los Angeles International Airport;\n",
    "* LaGuardia Airport até Hartsfield-Jackson Atlanta International Airport;\n",
    "* LaGuardia Airport até O'Hare International Airport"
   ]
  },
  {
   "cell_type": "markdown",
   "id": "4e7c8679",
   "metadata": {},
   "source": [
    "# Respostas de perguntas extras"
   ]
  },
  {
   "cell_type": "code",
   "execution_count": null,
   "id": "49e2eb10",
   "metadata": {},
   "outputs": [
    {
     "name": "stderr",
     "output_type": "stream",
     "text": [
      "                                                                                \r"
     ]
    }
   ],
   "source": [
    "dest = df.select('dest').distinct().collect()\n",
    "\n",
    "airport_list = []\n",
    "\n",
    "for row in dest:\n",
    "    airport_list.append(row.dest)"
   ]
  },
  {
   "cell_type": "markdown",
   "id": "51164b49",
   "metadata": {},
   "source": [
    "### Configuração de APIs externas"
   ]
  },
  {
   "cell_type": "markdown",
   "id": "05a98646",
   "metadata": {},
   "source": [
    "Obs: Como a API do Weatherbit não está funcionando da forma esperada (retorna erro de máximo de requisições por dia), será utilizada outra fonte para conseguir o dado de velocidade do vento. Nesse sentido, foi escolhida a Open-Meteor, que retorna a velocidade máxima do vento, para conclusão da atividade, visto que será apenas para fins ilustrativos."
   ]
  },
  {
   "cell_type": "code",
   "execution_count": 22,
   "id": "da2b9263",
   "metadata": {},
   "outputs": [
    {
     "name": "stdout",
     "output_type": "stream",
     "text": [
      "Código ICAO errado: PSE\n",
      "Sucesso: MSY\n",
      "Sucesso: SNA\n",
      "Sucesso: BUR\n",
      "Sucesso: GRR\n",
      "Sucesso: MYR\n",
      "Sucesso: GSO\n",
      "Sucesso: PVD\n",
      "Sucesso: OAK\n",
      "Erro: MSN\n",
      "HTTPSConnectionPool(host='archive-api.open-meteo.com', port=443): Read timed out. (read timeout=20)\n",
      "Sucesso: DCA\n",
      "Sucesso: LEX\n",
      "Sucesso: ORF\n",
      "Sucesso: CRW\n",
      "Sucesso: SAV\n",
      "Sucesso: CMH\n",
      "Sucesso: CAK\n",
      "Sucesso: IAH\n",
      "Código ICAO errado: HNL\n",
      "Sucesso: CVG\n",
      "Erro: SJC\n",
      "HTTPSConnectionPool(host='archive-api.open-meteo.com', port=443): Read timed out. (read timeout=20)\n",
      "Erro: BUF\n",
      "HTTPSConnectionPool(host='archive-api.open-meteo.com', port=443): Read timed out. (read timeout=20)\n",
      "Sucesso: AUS\n",
      "Código ICAO errado: SJU\n",
      "Sucesso: AVL\n",
      "Sucesso: LGB\n",
      "Sucesso: SRQ\n",
      "Sucesso: EYW\n",
      "Sucesso: SBN\n",
      "Sucesso: JAC\n",
      "Sucesso: CHS\n",
      "Sucesso: RSW\n",
      "Sucesso: TUL\n",
      "Sucesso: BOS\n",
      "Erro: LAS\n",
      "HTTPSConnectionPool(host='archive-api.open-meteo.com', port=443): Read timed out. (read timeout=20)\n",
      "Sucesso: XNA\n",
      "Sucesso: DEN\n",
      "Sucesso: ALB\n",
      "Sucesso: IAD\n",
      "Sucesso: PSP\n",
      "Sucesso: SEA\n",
      "Sucesso: MCI\n",
      "Sucesso: CLT\n",
      "Sucesso: BNA\n",
      "Sucesso: PBI\n",
      "Erro: ABQ\n",
      "HTTPSConnectionPool(host='archive-api.open-meteo.com', port=443): Read timed out. (read timeout=20)\n",
      "Sucesso: SDF\n",
      "Sucesso: BDL\n",
      "Sucesso: CLE\n",
      "Sucesso: PDX\n",
      "Sucesso: ACK\n",
      "Sucesso: MIA\n",
      "Sucesso: TPA\n",
      "Sucesso: BWI\n",
      "Sucesso: OKC\n",
      "Sucesso: SMF\n",
      "Sucesso: PHX\n",
      "Sucesso: STL\n",
      "Sucesso: PWM\n",
      "Erro: DFW\n",
      "HTTPSConnectionPool(host='archive-api.open-meteo.com', port=443): Read timed out. (read timeout=20)\n",
      "Sucesso: MHT\n",
      "Sucesso: GSP\n",
      "Sucesso: HDN\n",
      "Erro: EGE\n",
      "HTTPSConnectionPool(host='archive-api.open-meteo.com', port=443): Read timed out. (read timeout=20)\n",
      "Sucesso: SFO\n",
      "Sucesso: MEM\n",
      "Erro: BHM\n",
      "HTTPSConnectionPool(host='archive-api.open-meteo.com', port=443): Read timed out. (read timeout=20)\n",
      "Sucesso: ATL\n",
      "Sucesso: FLL\n",
      "Sucesso: RIC\n",
      "Sucesso: DAY\n",
      "Sucesso: OMA\n",
      "Sucesso: MVY\n",
      "Sucesso: CAE\n",
      "Sucesso: ORD\n",
      "Sucesso: BTV\n",
      "Erro: ILM\n",
      "HTTPSConnectionPool(host='archive-api.open-meteo.com', port=443): Read timed out. (read timeout=20)\n",
      "Código ICAO errado: BQN\n",
      "Sucesso: RDU\n",
      "Sucesso: MKE\n",
      "Sucesso: SYR\n",
      "Sucesso: PIT\n",
      "Sucesso: MTJ\n",
      "Erro: MDW\n",
      "HTTPSConnectionPool(host='archive-api.open-meteo.com', port=443): Read timed out. (read timeout=20)\n",
      "Sucesso: IND\n",
      "Sucesso: DTW\n",
      "Sucesso: HOU\n",
      "Sucesso: TYS\n",
      "Erro: JAX\n",
      "HTTPSConnectionPool(host='archive-api.open-meteo.com', port=443): Read timed out. (read timeout=20)\n",
      "Sucesso: LAX\n",
      "Sucesso: MSP\n",
      "Sucesso: BGR\n",
      "Sucesso: MCO\n",
      "Sucesso: ROC\n",
      "Sucesso: SAN\n",
      "Erro: BZN\n",
      "HTTPSConnectionPool(host='archive-api.open-meteo.com', port=443): Max retries exceeded with url: /v1/era5?latitude=45.77750015&longitude=-111.1529999&start_date=2013-01-01&end_date=2013-12-31&daily=wind_speed_10m_max (Caused by NewConnectionError('<urllib3.connection.HTTPSConnection object at 0x7c8a8e772c10>: Failed to establish a new connection: [Errno 101] Network is unreachable'))\n",
      "Erro: PHL\n",
      "HTTPSConnectionPool(host='archive-api.open-meteo.com', port=443): Read timed out. (read timeout=20)\n",
      "Sucesso: DSM\n",
      "Sucesso: SLC\n",
      "Sucesso: SAT\n",
      "Código ICAO errado: STT\n",
      "Sucesso: CHO\n",
      "Sucesso: LGA\n",
      "Sucesso: TVC\n",
      "Código ICAO errado: ANC\n"
     ]
    }
   ],
   "source": [
    "import requests\n",
    "import os\n",
    "import time\n",
    "from dotenv import load_dotenv\n",
    "\n",
    "\n",
    "load_dotenv()\n",
    "\n",
    "airportdb_token = os.getenv('AIRPORTDB_TOKEN')\n",
    "\n",
    "start_date = '2013-01-01'\n",
    "end_date = '2013-12-31'\n",
    "\n",
    "windspeed_list = []\n",
    "airports_not_found = []\n",
    "\n",
    "\n",
    "for airport_code in airport_list:\n",
    "    url = f\"https://airportdb.io/api/v1/airport/K{airport_code}?apiToken={airportdb_token}\"\n",
    "    response = requests.get(url)\n",
    "    if response.status_code == 404:\n",
    "        print(f\"Código ICAO errado: {airport_code}\")\n",
    "        airports_not_found.append(airport_code)\n",
    "        continue\n",
    "    response = response.json()\n",
    "    lat = response['latitude_deg']\n",
    "    lon = response['longitude_deg']\n",
    "    url = \"https://archive-api.open-meteo.com/v1/era5?\" + \\\n",
    "    f\"latitude={lat}&longitude={lon}&start_date={start_date}\"+ \\\n",
    "    f\"&end_date={end_date}&daily=wind_speed_10m_max\"\n",
    "\n",
    "    try:\n",
    "        response = requests.get(url, timeout=20)\n",
    "    except Exception as e:\n",
    "        print(f\"Erro: {airport_code}\")\n",
    "        print(e)\n",
    "        continue\n",
    "    response = response.json()\n",
    "    for index in range(0, 365):\n",
    "        windspeed_list.append([\n",
    "            airport_code,\n",
    "            response['daily']['time'][index],\n",
    "            response['daily']['wind_speed_10m_max'][index]\n",
    "        ])\n",
    "    print(f\"Sucesso: {airport_code}\")\n",
    "    time.sleep(20)"
   ]
  },
  {
   "cell_type": "code",
   "execution_count": 23,
   "id": "0715e98e",
   "metadata": {},
   "outputs": [
    {
     "name": "stderr",
     "output_type": "stream",
     "text": [
      "                                                                                \r"
     ]
    }
   ],
   "source": [
    "df_windspeed_list_1 = spark.createDataFrame(windspeed_list, ['origin', 'date-as-str', 'wind_speed'])\n",
    "df_windspeed_list_1.write.csv('./windspeed_list_1.csv', header=True, mode='overwrite')"
   ]
  },
  {
   "cell_type": "code",
   "execution_count": null,
   "id": "c1d4540f",
   "metadata": {},
   "outputs": [],
   "source": [
    "df_windspeed_list_origin = spark.createDataFrame(windspeed_list, ['origin', 'date-as-str', 'wind_speed'])\n",
    "df_windspeed_list_origin.write.csv('./windspeed_list.csv', header=True, mode='overwrite')"
   ]
  },
  {
   "cell_type": "code",
   "execution_count": 27,
   "id": "32512203",
   "metadata": {},
   "outputs": [],
   "source": [
    "df_windspeed_list_origin.coalesce(1).write.mode('overwrite').option('header', 'true').csv('windspeed_list.csv')"
   ]
  },
  {
   "cell_type": "markdown",
   "id": "05627dfb",
   "metadata": {},
   "source": [
    "Existiram problemas na ingestão (requisições com erro de timeout, alguns aeroportos que não tinham o código ICAO igual ao código IATA). Serão tratados agora."
   ]
  },
  {
   "cell_type": "code",
   "execution_count": 24,
   "id": "ef255464",
   "metadata": {},
   "outputs": [
    {
     "name": "stdout",
     "output_type": "stream",
     "text": [
      "Sucesso: ['PSE', 'TJPS']\n",
      "Sucesso: ['HNL', 'PHNL']\n",
      "Sucesso: ['SJU', 'TJSJ']\n",
      "Sucesso: ['BQN', 'TJBQ']\n",
      "Sucesso: ['STT', 'TIST']\n",
      "Sucesso: ['ANC', 'PANC']\n"
     ]
    }
   ],
   "source": [
    "airportdb_token = os.getenv('AIRPORTDB_TOKEN')\n",
    "\n",
    "start_date = '2013-01-01'\n",
    "end_date = '2013-12-31'\n",
    "\n",
    "wrong_icao_list = [\n",
    "    ['PSE', 'TJPS'], ['HNL', 'PHNL'], ['SJU', 'TJSJ'], ['BQN', 'TJBQ'], ['STT', 'TIST'], ['ANC', 'PANC']\n",
    "]\n",
    "\n",
    "windspeed_list = []\n",
    "\n",
    "for airport_code in wrong_icao_list:\n",
    "    url = f\"https://airportdb.io/api/v1/airport/{airport_code[1]}?apiToken={airportdb_token}\"\n",
    "    response = requests.get(url)\n",
    "    if response.status_code == 404:\n",
    "        print(f\"Código ICAO errado: {airport_code}\")\n",
    "        airports_not_found.append(airport_code)\n",
    "        continue\n",
    "    response = response.json()\n",
    "    lat = response['latitude_deg']\n",
    "    lon = response['longitude_deg']\n",
    "    url = \"https://archive-api.open-meteo.com/v1/era5?\" + \\\n",
    "    f\"latitude={lat}&longitude={lon}&start_date={start_date}\"+ \\\n",
    "    f\"&end_date={end_date}&daily=wind_speed_10m_max\"\n",
    "\n",
    "    try:\n",
    "        response = requests.get(url)\n",
    "    except Exception as e:\n",
    "        print(f\"Erro: {airport_code[0]}\")\n",
    "        print(e)\n",
    "        continue\n",
    "    response = response.json()\n",
    "    for index in range(0, 365):\n",
    "        windspeed_list.append([\n",
    "            airport_code[0],\n",
    "            response['daily']['time'][index],\n",
    "            response['daily']['wind_speed_10m_max'][index]\n",
    "        ])\n",
    "    print(f\"Sucesso: {airport_code}\")\n",
    "    time.sleep(60)"
   ]
  },
  {
   "cell_type": "code",
   "execution_count": 25,
   "id": "4fda3ad9",
   "metadata": {},
   "outputs": [
    {
     "name": "stderr",
     "output_type": "stream",
     "text": [
      "                                                                                \r"
     ]
    }
   ],
   "source": [
    "df_windspeed_list_2 = spark.createDataFrame(windspeed_list, ['origin', 'date-as-str', 'wind_speed'])\n",
    "df_windspeed_list_2.write.csv('./windspeed_list_2.csv', header=True, mode='overwrite')"
   ]
  },
  {
   "cell_type": "code",
   "execution_count": 30,
   "id": "1ba64312",
   "metadata": {},
   "outputs": [
    {
     "name": "stdout",
     "output_type": "stream",
     "text": [
      "Sucesso: MSN\n",
      "Sucesso: SJC\n",
      "Sucesso: BUF\n",
      "Sucesso: LAS\n",
      "Sucesso: DFW\n",
      "Sucesso: EGE\n",
      "Sucesso: BHM\n",
      "Sucesso: ILM\n",
      "Sucesso: MDW\n",
      "Sucesso: JAX\n",
      "Sucesso: BZN\n",
      "Sucesso: PHL\n"
     ]
    }
   ],
   "source": [
    "timedout_list = [\n",
    "    'MSN', 'SJC', 'BUF', 'LAS', 'DFW', 'EGE', 'BHM', 'ILM', 'MDW', 'JAX', 'BZN', 'PHL'\n",
    "]\n",
    "\n",
    "windspeed_list = []\n",
    "\n",
    "for airport_code in timedout_list:\n",
    "    url = f\"https://airportdb.io/api/v1/airport/K{airport_code}?apiToken={airportdb_token}\"\n",
    "    response = requests.get(url)\n",
    "    if response.status_code == 404:\n",
    "        print(f\"Código ICAO errado: {airport_code}\")\n",
    "        airports_not_found.append(airport_code)\n",
    "        continue\n",
    "    response = response.json()\n",
    "    lat = response['latitude_deg']\n",
    "    lon = response['longitude_deg']\n",
    "    url = \"https://archive-api.open-meteo.com/v1/era5?\" + \\\n",
    "    f\"latitude={lat}&longitude={lon}&start_date={start_date}\"+ \\\n",
    "    f\"&end_date={end_date}&daily=wind_speed_10m_max\"\n",
    "\n",
    "    try:\n",
    "        response = requests.get(url, timeout=20)\n",
    "    except Exception as e:\n",
    "        print(f\"Erro: {airport_code}\")\n",
    "        print(e)\n",
    "        continue\n",
    "    response = response.json()\n",
    "    for index in range(0, 365):\n",
    "        windspeed_list.append([\n",
    "            airport_code,\n",
    "            response['daily']['time'][index],\n",
    "            response['daily']['wind_speed_10m_max'][index]\n",
    "        ])\n",
    "    print(f\"Sucesso: {airport_code}\")\n",
    "    time.sleep(60)"
   ]
  },
  {
   "cell_type": "code",
   "execution_count": 43,
   "id": "af10d533",
   "metadata": {},
   "outputs": [
    {
     "name": "stderr",
     "output_type": "stream",
     "text": [
      "                                                                                \r"
     ]
    }
   ],
   "source": [
    "df_windspeed_list_3 = spark.createDataFrame(windspeed_list, ['origin', 'date-as-str', 'wind_speed'])\n",
    "df_windspeed_list_3.write.csv('./windspeed_list_3.csv', header=True, mode='overwrite')"
   ]
  },
  {
   "cell_type": "markdown",
   "id": "a82643d2",
   "metadata": {},
   "source": [
    "#### Consulta de aerportos de origem"
   ]
  },
  {
   "cell_type": "code",
   "execution_count": 26,
   "id": "610d893e",
   "metadata": {},
   "outputs": [
    {
     "name": "stdout",
     "output_type": "stream",
     "text": [
      "Sucesso: EWR\n",
      "Sucesso: LGA\n",
      "Sucesso: JFK\n"
     ]
    }
   ],
   "source": [
    "origin_airports = [\n",
    "    'EWR', 'LGA', 'JFK'\n",
    "]\n",
    "origin_windspeed = []\n",
    "for airport_code in origin_airports:\n",
    "    url = f\"https://airportdb.io/api/v1/airport/K{airport_code}?apiToken={airportdb_token}\"\n",
    "    response = requests.get(url)\n",
    "    if response.status_code == 404:\n",
    "        print(f\"Código ICAO errado: {airport_code}\")\n",
    "        airports_not_found.append(airport_code)\n",
    "        continue\n",
    "    response = response.json()\n",
    "    lat = response['latitude_deg']\n",
    "    lon = response['longitude_deg']\n",
    "    url = \"https://archive-api.open-meteo.com/v1/era5?\" + \\\n",
    "    f\"latitude={lat}&longitude={lon}&start_date={start_date}\"+ \\\n",
    "    f\"&end_date={end_date}&daily=wind_speed_10m_max\"\n",
    "\n",
    "    try:\n",
    "        response = requests.get(url)\n",
    "    except Exception as e:\n",
    "        print(f\"Erro: {airport_code}\")\n",
    "        print(e)\n",
    "        continue\n",
    "    response = response.json()\n",
    "    for index in range(0, 365):\n",
    "        origin_windspeed.append([\n",
    "            airport_code,\n",
    "            response['daily']['time'][index],\n",
    "            response['daily']['wind_speed_10m_max'][index]\n",
    "        ])\n",
    "    print(f\"Sucesso: {airport_code}\")\n",
    "    time.sleep(60)"
   ]
  },
  {
   "cell_type": "code",
   "execution_count": 32,
   "id": "b36db8f3",
   "metadata": {},
   "outputs": [],
   "source": [
    "df_windspeed_origin = spark.createDataFrame(origin_windspeed, ['origin', 'date-as-str', 'wind_speed'])\n",
    "\n",
    "df_windspeed_origin.coalesce(1).write.csv('./windspeed_origin', header=True, mode='overwrite')\n"
   ]
  },
  {
   "cell_type": "markdown",
   "id": "a3c21b39",
   "metadata": {},
   "source": [
    "### Resposta da questão"
   ]
  },
  {
   "cell_type": "code",
   "execution_count": 15,
   "id": "dd4f5a75",
   "metadata": {},
   "outputs": [],
   "source": [
    "df_windspeed_list_complete = spark.read.csv('windspeed-list-complete.csv', header=True, inferSchema=True)\n"
   ]
  },
  {
   "cell_type": "code",
   "execution_count": 16,
   "id": "f080dd58",
   "metadata": {},
   "outputs": [],
   "source": [
    "df_windspeed_origin = spark.read.csv('windspeed-origin.csv', header=True, inferSchema=True)"
   ]
  },
  {
   "cell_type": "code",
   "execution_count": 17,
   "id": "1b43d65e",
   "metadata": {},
   "outputs": [],
   "source": [
    "csv_filepath = os.path.join(os.getcwd(), \"airports-database.csv\")\n",
    "\n",
    "df2 = spark.read.csv(csv_filepath, header=True, inferSchema=True)"
   ]
  },
  {
   "cell_type": "code",
   "execution_count": 18,
   "id": "3094e10e",
   "metadata": {},
   "outputs": [
    {
     "name": "stdout",
     "output_type": "stream",
     "text": [
      "+---+----+-----+---+--------+--------------+---------+--------+--------------+---------+-------+------+-------+------+----+--------+--------+----+------+-------------------+--------------------+-----------+----------+\n",
      "| id|year|month|day|dep_time|sched_dep_time|dep_delay|arr_time|sched_arr_time|arr_delay|carrier|flight|tailnum|origin|dest|air_time|distance|hour|minute|          time_hour|                name|date_as_str|      date|\n",
      "+---+----+-----+---+--------+--------------+---------+--------+--------------+---------+-------+------+-------+------+----+--------+--------+----+------+-------------------+--------------------+-----------+----------+\n",
      "|  0|2013|    1|  1|   517.0|           515|      2.0|   830.0|           819|     11.0|     UA|  1545| N14228|   EWR| IAH|   227.0|    1400|   5|    15|2013-01-01 05:00:00|United Air Lines ...|   2013-1-1|2013-01-01|\n",
      "|  1|2013|    1|  1|   533.0|           529|      4.0|   850.0|           830|     20.0|     UA|  1714| N24211|   LGA| IAH|   227.0|    1416|   5|    29|2013-01-01 05:00:00|United Air Lines ...|   2013-1-1|2013-01-01|\n",
      "|  2|2013|    1|  1|   542.0|           540|      2.0|   923.0|           850|     33.0|     AA|  1141| N619AA|   JFK| MIA|   160.0|    1089|   5|    40|2013-01-01 05:00:00|American Airlines...|   2013-1-1|2013-01-01|\n",
      "|  3|2013|    1|  1|   544.0|           545|     -1.0|  1004.0|          1022|    -18.0|     B6|   725| N804JB|   JFK| BQN|   183.0|    1576|   5|    45|2013-01-01 05:00:00|     JetBlue Airways|   2013-1-1|2013-01-01|\n",
      "|  4|2013|    1|  1|   554.0|           600|     -6.0|   812.0|           837|    -25.0|     DL|   461| N668DN|   LGA| ATL|   116.0|     762|   6|     0|2013-01-01 06:00:00|Delta Air Lines Inc.|   2013-1-1|2013-01-01|\n",
      "|  5|2013|    1|  1|   554.0|           558|     -4.0|   740.0|           728|     12.0|     UA|  1696| N39463|   EWR| ORD|   150.0|     719|   5|    58|2013-01-01 05:00:00|United Air Lines ...|   2013-1-1|2013-01-01|\n",
      "|  6|2013|    1|  1|   555.0|           600|     -5.0|   913.0|           854|     19.0|     B6|   507| N516JB|   EWR| FLL|   158.0|    1065|   6|     0|2013-01-01 06:00:00|     JetBlue Airways|   2013-1-1|2013-01-01|\n",
      "|  7|2013|    1|  1|   557.0|           600|     -3.0|   709.0|           723|    -14.0|     EV|  5708| N829AS|   LGA| IAD|    53.0|     229|   6|     0|2013-01-01 06:00:00|ExpressJet Airlin...|   2013-1-1|2013-01-01|\n",
      "|  8|2013|    1|  1|   557.0|           600|     -3.0|   838.0|           846|     -8.0|     B6|    79| N593JB|   JFK| MCO|   140.0|     944|   6|     0|2013-01-01 06:00:00|     JetBlue Airways|   2013-1-1|2013-01-01|\n",
      "|  9|2013|    1|  1|   558.0|           600|     -2.0|   753.0|           745|      8.0|     AA|   301| N3ALAA|   LGA| ORD|   138.0|     733|   6|     0|2013-01-01 06:00:00|American Airlines...|   2013-1-1|2013-01-01|\n",
      "| 10|2013|    1|  1|   558.0|           600|     -2.0|   849.0|           851|     -2.0|     B6|    49| N793JB|   JFK| PBI|   149.0|    1028|   6|     0|2013-01-01 06:00:00|     JetBlue Airways|   2013-1-1|2013-01-01|\n",
      "| 11|2013|    1|  1|   558.0|           600|     -2.0|   853.0|           856|     -3.0|     B6|    71| N657JB|   JFK| TPA|   158.0|    1005|   6|     0|2013-01-01 06:00:00|     JetBlue Airways|   2013-1-1|2013-01-01|\n",
      "| 12|2013|    1|  1|   558.0|           600|     -2.0|   924.0|           917|      7.0|     UA|   194| N29129|   JFK| LAX|   345.0|    2475|   6|     0|2013-01-01 06:00:00|United Air Lines ...|   2013-1-1|2013-01-01|\n",
      "| 13|2013|    1|  1|   558.0|           600|     -2.0|   923.0|           937|    -14.0|     UA|  1124| N53441|   EWR| SFO|   361.0|    2565|   6|     0|2013-01-01 06:00:00|United Air Lines ...|   2013-1-1|2013-01-01|\n",
      "| 14|2013|    1|  1|   559.0|           600|     -1.0|   941.0|           910|     31.0|     AA|   707| N3DUAA|   LGA| DFW|   257.0|    1389|   6|     0|2013-01-01 06:00:00|American Airlines...|   2013-1-1|2013-01-01|\n",
      "| 15|2013|    1|  1|   559.0|           559|      0.0|   702.0|           706|     -4.0|     B6|  1806| N708JB|   JFK| BOS|    44.0|     187|   5|    59|2013-01-01 05:00:00|     JetBlue Airways|   2013-1-1|2013-01-01|\n",
      "| 16|2013|    1|  1|   559.0|           600|     -1.0|   854.0|           902|     -8.0|     UA|  1187| N76515|   EWR| LAS|   337.0|    2227|   6|     0|2013-01-01 06:00:00|United Air Lines ...|   2013-1-1|2013-01-01|\n",
      "| 17|2013|    1|  1|   600.0|           600|      0.0|   851.0|           858|     -7.0|     B6|   371| N595JB|   LGA| FLL|   152.0|    1076|   6|     0|2013-01-01 06:00:00|     JetBlue Airways|   2013-1-1|2013-01-01|\n",
      "| 18|2013|    1|  1|   600.0|           600|      0.0|   837.0|           825|     12.0|     MQ|  4650| N542MQ|   LGA| ATL|   134.0|     762|   6|     0|2013-01-01 06:00:00|           Envoy Air|   2013-1-1|2013-01-01|\n",
      "| 19|2013|    1|  1|   601.0|           600|      1.0|   844.0|           850|     -6.0|     B6|   343| N644JB|   EWR| PBI|   147.0|    1023|   6|     0|2013-01-01 06:00:00|     JetBlue Airways|   2013-1-1|2013-01-01|\n",
      "+---+----+-----+---+--------+--------------+---------+--------+--------------+---------+-------+------+-------+------+----+--------+--------+----+------+-------------------+--------------------+-----------+----------+\n",
      "only showing top 20 rows\n"
     ]
    }
   ],
   "source": [
    "df2 = df2.withColumn('date_as_str', concat_ws('-', 'year', 'month', 'day'))\n",
    "df2 = df2.withColumn('date', to_date('date_as_str', 'yyyy-M-d'))\n",
    "\n",
    "df2.show()"
   ]
  },
  {
   "cell_type": "code",
   "execution_count": 19,
   "id": "880de32a",
   "metadata": {},
   "outputs": [
    {
     "name": "stdout",
     "output_type": "stream",
     "text": [
      "+------+----------+-----------------+\n",
      "|origin|      date|wind_speed_origin|\n",
      "+------+----------+-----------------+\n",
      "|   EWR|2013-01-01|             19.4|\n",
      "|   EWR|2013-01-02|             16.6|\n",
      "|   EWR|2013-01-03|             12.7|\n",
      "|   EWR|2013-01-04|             21.7|\n",
      "|   EWR|2013-01-05|             17.7|\n",
      "|   EWR|2013-01-06|             11.5|\n",
      "|   EWR|2013-01-07|             14.3|\n",
      "|   EWR|2013-01-08|             13.4|\n",
      "|   EWR|2013-01-09|             15.0|\n",
      "|   EWR|2013-01-10|             19.3|\n",
      "|   EWR|2013-01-11|              9.5|\n",
      "|   EWR|2013-01-12|              8.7|\n",
      "|   EWR|2013-01-13|              7.9|\n",
      "|   EWR|2013-01-14|             10.3|\n",
      "|   EWR|2013-01-15|             13.2|\n",
      "|   EWR|2013-01-16|             10.2|\n",
      "|   EWR|2013-01-17|             14.3|\n",
      "|   EWR|2013-01-18|             20.9|\n",
      "|   EWR|2013-01-19|             22.5|\n",
      "|   EWR|2013-01-20|             26.8|\n",
      "+------+----------+-----------------+\n",
      "only showing top 20 rows\n"
     ]
    }
   ],
   "source": [
    "df_windspeed_origin = df_windspeed_origin.withColumnsRenamed({\n",
    "    'date-as-str': 'date', 'wind_speed': 'wind_speed_origin'\n",
    "}).withColumn('date', to_date('date', 'yyyy-M-d'))\n",
    "df_windspeed_origin.show()"
   ]
  },
  {
   "cell_type": "code",
   "execution_count": 20,
   "id": "65afc9a1",
   "metadata": {},
   "outputs": [
    {
     "name": "stdout",
     "output_type": "stream",
     "text": [
      "+------+----------+---+----+-----+---+--------+--------------+---------+--------+--------------+---------+-------+------+-------+----+--------+--------+----+------+-------------------+--------------------+-----------+-----------------+\n",
      "|origin|      date| id|year|month|day|dep_time|sched_dep_time|dep_delay|arr_time|sched_arr_time|arr_delay|carrier|flight|tailnum|dest|air_time|distance|hour|minute|          time_hour|                name|date_as_str|wind_speed_origin|\n",
      "+------+----------+---+----+-----+---+--------+--------------+---------+--------+--------------+---------+-------+------+-------+----+--------+--------+----+------+-------------------+--------------------+-----------+-----------------+\n",
      "|   EWR|2013-01-01|  0|2013|    1|  1|   517.0|           515|      2.0|   830.0|           819|     11.0|     UA|  1545| N14228| IAH|   227.0|    1400|   5|    15|2013-01-01 05:00:00|United Air Lines ...|   2013-1-1|             19.4|\n",
      "|   LGA|2013-01-01|  1|2013|    1|  1|   533.0|           529|      4.0|   850.0|           830|     20.0|     UA|  1714| N24211| IAH|   227.0|    1416|   5|    29|2013-01-01 05:00:00|United Air Lines ...|   2013-1-1|             22.5|\n",
      "|   JFK|2013-01-01|  2|2013|    1|  1|   542.0|           540|      2.0|   923.0|           850|     33.0|     AA|  1141| N619AA| MIA|   160.0|    1089|   5|    40|2013-01-01 05:00:00|American Airlines...|   2013-1-1|             22.5|\n",
      "|   JFK|2013-01-01|  3|2013|    1|  1|   544.0|           545|     -1.0|  1004.0|          1022|    -18.0|     B6|   725| N804JB| BQN|   183.0|    1576|   5|    45|2013-01-01 05:00:00|     JetBlue Airways|   2013-1-1|             22.5|\n",
      "|   LGA|2013-01-01|  4|2013|    1|  1|   554.0|           600|     -6.0|   812.0|           837|    -25.0|     DL|   461| N668DN| ATL|   116.0|     762|   6|     0|2013-01-01 06:00:00|Delta Air Lines Inc.|   2013-1-1|             22.5|\n",
      "|   EWR|2013-01-01|  5|2013|    1|  1|   554.0|           558|     -4.0|   740.0|           728|     12.0|     UA|  1696| N39463| ORD|   150.0|     719|   5|    58|2013-01-01 05:00:00|United Air Lines ...|   2013-1-1|             19.4|\n",
      "|   EWR|2013-01-01|  6|2013|    1|  1|   555.0|           600|     -5.0|   913.0|           854|     19.0|     B6|   507| N516JB| FLL|   158.0|    1065|   6|     0|2013-01-01 06:00:00|     JetBlue Airways|   2013-1-1|             19.4|\n",
      "|   LGA|2013-01-01|  7|2013|    1|  1|   557.0|           600|     -3.0|   709.0|           723|    -14.0|     EV|  5708| N829AS| IAD|    53.0|     229|   6|     0|2013-01-01 06:00:00|ExpressJet Airlin...|   2013-1-1|             22.5|\n",
      "|   JFK|2013-01-01|  8|2013|    1|  1|   557.0|           600|     -3.0|   838.0|           846|     -8.0|     B6|    79| N593JB| MCO|   140.0|     944|   6|     0|2013-01-01 06:00:00|     JetBlue Airways|   2013-1-1|             22.5|\n",
      "|   LGA|2013-01-01|  9|2013|    1|  1|   558.0|           600|     -2.0|   753.0|           745|      8.0|     AA|   301| N3ALAA| ORD|   138.0|     733|   6|     0|2013-01-01 06:00:00|American Airlines...|   2013-1-1|             22.5|\n",
      "|   JFK|2013-01-01| 10|2013|    1|  1|   558.0|           600|     -2.0|   849.0|           851|     -2.0|     B6|    49| N793JB| PBI|   149.0|    1028|   6|     0|2013-01-01 06:00:00|     JetBlue Airways|   2013-1-1|             22.5|\n",
      "|   JFK|2013-01-01| 11|2013|    1|  1|   558.0|           600|     -2.0|   853.0|           856|     -3.0|     B6|    71| N657JB| TPA|   158.0|    1005|   6|     0|2013-01-01 06:00:00|     JetBlue Airways|   2013-1-1|             22.5|\n",
      "|   JFK|2013-01-01| 12|2013|    1|  1|   558.0|           600|     -2.0|   924.0|           917|      7.0|     UA|   194| N29129| LAX|   345.0|    2475|   6|     0|2013-01-01 06:00:00|United Air Lines ...|   2013-1-1|             22.5|\n",
      "|   EWR|2013-01-01| 13|2013|    1|  1|   558.0|           600|     -2.0|   923.0|           937|    -14.0|     UA|  1124| N53441| SFO|   361.0|    2565|   6|     0|2013-01-01 06:00:00|United Air Lines ...|   2013-1-1|             19.4|\n",
      "|   LGA|2013-01-01| 14|2013|    1|  1|   559.0|           600|     -1.0|   941.0|           910|     31.0|     AA|   707| N3DUAA| DFW|   257.0|    1389|   6|     0|2013-01-01 06:00:00|American Airlines...|   2013-1-1|             22.5|\n",
      "|   JFK|2013-01-01| 15|2013|    1|  1|   559.0|           559|      0.0|   702.0|           706|     -4.0|     B6|  1806| N708JB| BOS|    44.0|     187|   5|    59|2013-01-01 05:00:00|     JetBlue Airways|   2013-1-1|             22.5|\n",
      "|   EWR|2013-01-01| 16|2013|    1|  1|   559.0|           600|     -1.0|   854.0|           902|     -8.0|     UA|  1187| N76515| LAS|   337.0|    2227|   6|     0|2013-01-01 06:00:00|United Air Lines ...|   2013-1-1|             19.4|\n",
      "|   LGA|2013-01-01| 17|2013|    1|  1|   600.0|           600|      0.0|   851.0|           858|     -7.0|     B6|   371| N595JB| FLL|   152.0|    1076|   6|     0|2013-01-01 06:00:00|     JetBlue Airways|   2013-1-1|             22.5|\n",
      "|   LGA|2013-01-01| 18|2013|    1|  1|   600.0|           600|      0.0|   837.0|           825|     12.0|     MQ|  4650| N542MQ| ATL|   134.0|     762|   6|     0|2013-01-01 06:00:00|           Envoy Air|   2013-1-1|             22.5|\n",
      "|   EWR|2013-01-01| 19|2013|    1|  1|   601.0|           600|      1.0|   844.0|           850|     -6.0|     B6|   343| N644JB| PBI|   147.0|    1023|   6|     0|2013-01-01 06:00:00|     JetBlue Airways|   2013-1-1|             19.4|\n",
      "+------+----------+---+----+-----+---+--------+--------------+---------+--------+--------------+---------+-------+------+-------+----+--------+--------+----+------+-------------------+--------------------+-----------+-----------------+\n",
      "only showing top 20 rows\n"
     ]
    }
   ],
   "source": [
    "extended_df = df2.join(\n",
    "    broadcast(df_windspeed_origin),\n",
    "    on=['origin', 'date'],\n",
    "    how='left'\n",
    ")\n",
    "\n",
    "extended_df.show()"
   ]
  },
  {
   "cell_type": "code",
   "execution_count": 21,
   "id": "9a22206a",
   "metadata": {},
   "outputs": [
    {
     "name": "stdout",
     "output_type": "stream",
     "text": [
      "+----+----------+---------------+\n",
      "|dest|      date|wind_speed_dest|\n",
      "+----+----------+---------------+\n",
      "| MSY|2013-01-01|           24.5|\n",
      "| MSY|2013-01-02|           24.1|\n",
      "| MSY|2013-01-03|           21.8|\n",
      "| MSY|2013-01-04|           20.3|\n",
      "| MSY|2013-01-05|           17.1|\n",
      "| MSY|2013-01-06|           23.0|\n",
      "| MSY|2013-01-07|           19.8|\n",
      "| MSY|2013-01-08|           20.7|\n",
      "| MSY|2013-01-09|           24.5|\n",
      "| MSY|2013-01-10|           29.4|\n",
      "| MSY|2013-01-11|           23.7|\n",
      "| MSY|2013-01-12|           22.5|\n",
      "| MSY|2013-01-13|           26.5|\n",
      "| MSY|2013-01-14|           25.5|\n",
      "| MSY|2013-01-15|           25.9|\n",
      "| MSY|2013-01-16|           22.7|\n",
      "| MSY|2013-01-17|           27.1|\n",
      "| MSY|2013-01-18|           20.2|\n",
      "| MSY|2013-01-19|           13.5|\n",
      "| MSY|2013-01-20|            9.4|\n",
      "+----+----------+---------------+\n",
      "only showing top 20 rows\n"
     ]
    }
   ],
   "source": [
    "df_windspeed_list_complete = df_windspeed_list_complete.withColumnsRenamed({\n",
    "    'origin': 'dest', 'date-as-str': 'date', 'wind_speed': 'wind_speed_dest'\n",
    "}).withColumn('date', to_date('date', 'yyyy-M-d'))\n",
    "\n",
    "df_windspeed_list_complete.show()"
   ]
  },
  {
   "cell_type": "code",
   "execution_count": 22,
   "id": "9c8a8e46",
   "metadata": {},
   "outputs": [
    {
     "name": "stderr",
     "output_type": "stream",
     "text": [
      "                                                                                \r"
     ]
    },
    {
     "name": "stdout",
     "output_type": "stream",
     "text": [
      "+----+----------+------+---+----+-----+---+--------+--------------+---------+--------+--------------+---------+-------+------+-------+--------+--------+----+------+-------------------+--------------------+-----------+-----------------+---------------+\n",
      "|dest|      date|origin| id|year|month|day|dep_time|sched_dep_time|dep_delay|arr_time|sched_arr_time|arr_delay|carrier|flight|tailnum|air_time|distance|hour|minute|          time_hour|                name|date_as_str|wind_speed_origin|wind_speed_dest|\n",
      "+----+----------+------+---+----+-----+---+--------+--------------+---------+--------+--------------+---------+-------+------+-------+--------+--------+----+------+-------------------+--------------------+-----------+-----------------+---------------+\n",
      "| IAH|2013-01-01|   EWR|  0|2013|    1|  1|   517.0|           515|      2.0|   830.0|           819|     11.0|     UA|  1545| N14228|   227.0|    1400|   5|    15|2013-01-01 05:00:00|United Air Lines ...|   2013-1-1|             19.4|           19.1|\n",
      "| IAH|2013-01-01|   LGA|  1|2013|    1|  1|   533.0|           529|      4.0|   850.0|           830|     20.0|     UA|  1714| N24211|   227.0|    1416|   5|    29|2013-01-01 05:00:00|United Air Lines ...|   2013-1-1|             22.5|           19.1|\n",
      "| MIA|2013-01-01|   JFK|  2|2013|    1|  1|   542.0|           540|      2.0|   923.0|           850|     33.0|     AA|  1141| N619AA|   160.0|    1089|   5|    40|2013-01-01 05:00:00|American Airlines...|   2013-1-1|             22.5|           23.2|\n",
      "| BQN|2013-01-01|   JFK|  3|2013|    1|  1|   544.0|           545|     -1.0|  1004.0|          1022|    -18.0|     B6|   725| N804JB|   183.0|    1576|   5|    45|2013-01-01 05:00:00|     JetBlue Airways|   2013-1-1|             22.5|           16.5|\n",
      "| ATL|2013-01-01|   LGA|  4|2013|    1|  1|   554.0|           600|     -6.0|   812.0|           837|    -25.0|     DL|   461| N668DN|   116.0|     762|   6|     0|2013-01-01 06:00:00|Delta Air Lines Inc.|   2013-1-1|             22.5|           13.8|\n",
      "| ORD|2013-01-01|   EWR|  5|2013|    1|  1|   554.0|           558|     -4.0|   740.0|           728|     12.0|     UA|  1696| N39463|   150.0|     719|   5|    58|2013-01-01 05:00:00|United Air Lines ...|   2013-1-1|             19.4|           14.8|\n",
      "| FLL|2013-01-01|   EWR|  6|2013|    1|  1|   555.0|           600|     -5.0|   913.0|           854|     19.0|     B6|   507| N516JB|   158.0|    1065|   6|     0|2013-01-01 06:00:00|     JetBlue Airways|   2013-1-1|             19.4|           22.2|\n",
      "| IAD|2013-01-01|   LGA|  7|2013|    1|  1|   557.0|           600|     -3.0|   709.0|           723|    -14.0|     EV|  5708| N829AS|    53.0|     229|   6|     0|2013-01-01 06:00:00|ExpressJet Airlin...|   2013-1-1|             22.5|           11.7|\n",
      "| MCO|2013-01-01|   JFK|  8|2013|    1|  1|   557.0|           600|     -3.0|   838.0|           846|     -8.0|     B6|    79| N593JB|   140.0|     944|   6|     0|2013-01-01 06:00:00|     JetBlue Airways|   2013-1-1|             22.5|           15.3|\n",
      "| ORD|2013-01-01|   LGA|  9|2013|    1|  1|   558.0|           600|     -2.0|   753.0|           745|      8.0|     AA|   301| N3ALAA|   138.0|     733|   6|     0|2013-01-01 06:00:00|American Airlines...|   2013-1-1|             22.5|           14.8|\n",
      "| PBI|2013-01-01|   JFK| 10|2013|    1|  1|   558.0|           600|     -2.0|   849.0|           851|     -2.0|     B6|    49| N793JB|   149.0|    1028|   6|     0|2013-01-01 06:00:00|     JetBlue Airways|   2013-1-1|             22.5|           19.8|\n",
      "| TPA|2013-01-01|   JFK| 11|2013|    1|  1|   558.0|           600|     -2.0|   853.0|           856|     -3.0|     B6|    71| N657JB|   158.0|    1005|   6|     0|2013-01-01 06:00:00|     JetBlue Airways|   2013-1-1|             22.5|           15.2|\n",
      "| LAX|2013-01-01|   JFK| 12|2013|    1|  1|   558.0|           600|     -2.0|   924.0|           917|      7.0|     UA|   194| N29129|   345.0|    2475|   6|     0|2013-01-01 06:00:00|United Air Lines ...|   2013-1-1|             22.5|            9.4|\n",
      "| SFO|2013-01-01|   EWR| 13|2013|    1|  1|   558.0|           600|     -2.0|   923.0|           937|    -14.0|     UA|  1124| N53441|   361.0|    2565|   6|     0|2013-01-01 06:00:00|United Air Lines ...|   2013-1-1|             19.4|           18.6|\n",
      "| DFW|2013-01-01|   LGA| 14|2013|    1|  1|   559.0|           600|     -1.0|   941.0|           910|     31.0|     AA|   707| N3DUAA|   257.0|    1389|   6|     0|2013-01-01 06:00:00|American Airlines...|   2013-1-1|             22.5|           18.5|\n",
      "| BOS|2013-01-01|   JFK| 15|2013|    1|  1|   559.0|           559|      0.0|   702.0|           706|     -4.0|     B6|  1806| N708JB|    44.0|     187|   5|    59|2013-01-01 05:00:00|     JetBlue Airways|   2013-1-1|             22.5|           24.6|\n",
      "| LAS|2013-01-01|   EWR| 16|2013|    1|  1|   559.0|           600|     -1.0|   854.0|           902|     -8.0|     UA|  1187| N76515|   337.0|    2227|   6|     0|2013-01-01 06:00:00|United Air Lines ...|   2013-1-1|             19.4|           14.8|\n",
      "| FLL|2013-01-01|   LGA| 17|2013|    1|  1|   600.0|           600|      0.0|   851.0|           858|     -7.0|     B6|   371| N595JB|   152.0|    1076|   6|     0|2013-01-01 06:00:00|     JetBlue Airways|   2013-1-1|             22.5|           22.2|\n",
      "| ATL|2013-01-01|   LGA| 18|2013|    1|  1|   600.0|           600|      0.0|   837.0|           825|     12.0|     MQ|  4650| N542MQ|   134.0|     762|   6|     0|2013-01-01 06:00:00|           Envoy Air|   2013-1-1|             22.5|           13.8|\n",
      "| PBI|2013-01-01|   EWR| 19|2013|    1|  1|   601.0|           600|      1.0|   844.0|           850|     -6.0|     B6|   343| N644JB|   147.0|    1023|   6|     0|2013-01-01 06:00:00|     JetBlue Airways|   2013-1-1|             19.4|           19.8|\n",
      "+----+----------+------+---+----+-----+---+--------+--------------+---------+--------+--------------+---------+-------+------+-------+--------+--------+----+------+-------------------+--------------------+-----------+-----------------+---------------+\n",
      "only showing top 20 rows\n"
     ]
    }
   ],
   "source": [
    "extended_df = extended_df.join(\n",
    "    broadcast(df_windspeed_list_complete),\n",
    "    on=['dest', 'date'],\n",
    "    how='left'\n",
    ")\n",
    "\n",
    "extended_df.show()"
   ]
  },
  {
   "cell_type": "code",
   "execution_count": 23,
   "id": "06cc11b6",
   "metadata": {},
   "outputs": [
    {
     "name": "stderr",
     "output_type": "stream",
     "text": [
      "                                                                                \r"
     ]
    }
   ],
   "source": [
    "extended_df.coalesce(1).write.csv('./airports-database-extended.csv', header=True, mode='overwrite')"
   ]
  },
  {
   "cell_type": "code",
   "execution_count": 24,
   "id": "fd75cf6f",
   "metadata": {},
   "outputs": [
    {
     "name": "stderr",
     "output_type": "stream",
     "text": [
      "[Stage 44:>                                                         (0 + 4) / 4]\r"
     ]
    },
    {
     "name": "stdout",
     "output_type": "stream",
     "text": [
      "+------+----+-----------------+---------------+-------------+\n",
      "|origin|dest|wind_speed_origin|wind_speed_dest|max_arr_delay|\n",
      "+------+----+-----------------+---------------+-------------+\n",
      "|   JFK| HNL|             17.7|           30.5|       1272.0|\n",
      "|   JFK| CMH|             15.3|            9.2|       1127.0|\n",
      "|   EWR| ORD|             19.3|           18.5|       1109.0|\n",
      "|   JFK| SFO|             16.5|           18.1|       1007.0|\n",
      "|   JFK| CVG|             14.5|           11.1|        989.0|\n",
      "+------+----+-----------------+---------------+-------------+\n",
      "only showing top 5 rows\n"
     ]
    },
    {
     "name": "stderr",
     "output_type": "stream",
     "text": [
      "                                                                                \r"
     ]
    }
   ],
   "source": [
    "extended_df.groupBy(['origin', 'dest', 'wind_speed_origin', 'wind_speed_dest']).agg(max('arr_delay').alias('max_arr_delay')).orderBy(desc('max_arr_delay')).show(5)"
   ]
  },
  {
   "cell_type": "markdown",
   "id": "52afe74d",
   "metadata": {},
   "source": [
    "Finalmente, temos os dados expandidos dos 5 vôos com maiores atrasos na chegada, que são:\n",
    "* John F. Kennedy International Airport até Honolulu International Airport;\n",
    "* John F. Kennedy International Airport até Port Columbus International Airport;\n",
    "* Newark Liberty Airport até O'Hare International Airport;\n",
    "* John F. Kennedy International Airport até San Francisco International Airport;\n",
    "* John F. Kennedy International Airport até Cincinnati/Northern Kentucky International Airport."
   ]
  }
 ],
 "metadata": {
  "kernelspec": {
   "display_name": "case-mle",
   "language": "python",
   "name": "python3"
  },
  "language_info": {
   "codemirror_mode": {
    "name": "ipython",
    "version": 3
   },
   "file_extension": ".py",
   "mimetype": "text/x-python",
   "name": "python",
   "nbconvert_exporter": "python",
   "pygments_lexer": "ipython3",
   "version": "3.13.7"
  }
 },
 "nbformat": 4,
 "nbformat_minor": 5
}
