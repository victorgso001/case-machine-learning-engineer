{
 "cells": [
  {
   "cell_type": "markdown",
   "id": "6f9df827",
   "metadata": {},
   "source": [
    "# Case - Machine Learning Engineer - PicPay"
   ]
  },
  {
   "cell_type": "markdown",
   "id": "594a9b66",
   "metadata": {},
   "source": [
    "Este material tem por objetivo trazer uma análise dos dados disponibilizados para o case técnico relativo ao processo de preenchimento de vaga de machine learning engineer. Neste trabalho, serão disponibilizados os processamentos necessários para a resposta das perguntas fornecidas, bem como a análise de métricas para a criação do modelo utilizado na API."
   ]
  },
  {
   "cell_type": "markdown",
   "id": "c743764b",
   "metadata": {},
   "source": [
    "## Importando Base de Dados"
   ]
  },
  {
   "cell_type": "code",
   "execution_count": 42,
   "id": "9739aafe",
   "metadata": {},
   "outputs": [],
   "source": [
    "from pyspark.sql.functions import (\n",
    "    isnan, col, desc, mean, count, row_number, min, max, concat_ws, to_date, date_format\n",
    ")\n",
    "from pyspark.sql.window import Window\n",
    "from pyspark.sql import SparkSession\n",
    "import zipfile\n",
    "import os"
   ]
  },
  {
   "cell_type": "code",
   "execution_count": 2,
   "id": "ad79596a",
   "metadata": {},
   "outputs": [],
   "source": [
    "filepath = os.path.join(os.getcwd(), \"airports-database.zip\")\n",
    "\n",
    "with zipfile.ZipFile(filepath, 'r') as zip_file:\n",
    "    zip_file.extractall()"
   ]
  },
  {
   "cell_type": "code",
   "execution_count": 3,
   "id": "72faf8e7",
   "metadata": {},
   "outputs": [
    {
     "name": "stderr",
     "output_type": "stream",
     "text": [
      "WARNING: Using incubator modules: jdk.incubator.vector\n",
      "Using Spark's default log4j profile: org/apache/spark/log4j2-defaults.properties\n",
      "25/10/21 21:19:54 WARN Utils: Your hostname, Notebook, resolves to a loopback address: 127.0.1.1; using 10.255.255.254 instead (on interface lo)\n",
      "25/10/21 21:19:54 WARN Utils: Set SPARK_LOCAL_IP if you need to bind to another address\n",
      "Using Spark's default log4j profile: org/apache/spark/log4j2-defaults.properties\n",
      "Setting default log level to \"WARN\".\n",
      "To adjust logging level use sc.setLogLevel(newLevel). For SparkR, use setLogLevel(newLevel).\n",
      "25/10/21 21:19:58 WARN NativeCodeLoader: Unable to load native-hadoop library for your platform... using builtin-java classes where applicable\n"
     ]
    }
   ],
   "source": [
    "spark=SparkSession.builder.config(\n",
    "    \"spark.driver.bindAddress\", \"localhost\"\n",
    "    ).config(\n",
    "        \"spark.network.timeout\",\"10000000\"\n",
    "    ).config(\n",
    "        \"spark.executor.heartbeatInterval\", \"10000000\"\n",
    "    ).appName(\"MLE Case\").getOrCreate()"
   ]
  },
  {
   "cell_type": "code",
   "execution_count": 4,
   "id": "5e44efcb",
   "metadata": {},
   "outputs": [
    {
     "name": "stderr",
     "output_type": "stream",
     "text": [
      "                                                                                \r"
     ]
    },
    {
     "name": "stdout",
     "output_type": "stream",
     "text": [
      "+---+----+-----+---+--------+--------------+---------+--------+--------------+---------+-------+------+-------+------+----+--------+--------+----+------+-------------------+--------------------+\n",
      "| id|year|month|day|dep_time|sched_dep_time|dep_delay|arr_time|sched_arr_time|arr_delay|carrier|flight|tailnum|origin|dest|air_time|distance|hour|minute|          time_hour|                name|\n",
      "+---+----+-----+---+--------+--------------+---------+--------+--------------+---------+-------+------+-------+------+----+--------+--------+----+------+-------------------+--------------------+\n",
      "|  0|2013|    1|  1|   517.0|           515|      2.0|   830.0|           819|     11.0|     UA|  1545| N14228|   EWR| IAH|   227.0|    1400|   5|    15|2013-01-01 05:00:00|United Air Lines ...|\n",
      "|  1|2013|    1|  1|   533.0|           529|      4.0|   850.0|           830|     20.0|     UA|  1714| N24211|   LGA| IAH|   227.0|    1416|   5|    29|2013-01-01 05:00:00|United Air Lines ...|\n",
      "|  2|2013|    1|  1|   542.0|           540|      2.0|   923.0|           850|     33.0|     AA|  1141| N619AA|   JFK| MIA|   160.0|    1089|   5|    40|2013-01-01 05:00:00|American Airlines...|\n",
      "|  3|2013|    1|  1|   544.0|           545|     -1.0|  1004.0|          1022|    -18.0|     B6|   725| N804JB|   JFK| BQN|   183.0|    1576|   5|    45|2013-01-01 05:00:00|     JetBlue Airways|\n",
      "|  4|2013|    1|  1|   554.0|           600|     -6.0|   812.0|           837|    -25.0|     DL|   461| N668DN|   LGA| ATL|   116.0|     762|   6|     0|2013-01-01 06:00:00|Delta Air Lines Inc.|\n",
      "|  5|2013|    1|  1|   554.0|           558|     -4.0|   740.0|           728|     12.0|     UA|  1696| N39463|   EWR| ORD|   150.0|     719|   5|    58|2013-01-01 05:00:00|United Air Lines ...|\n",
      "|  6|2013|    1|  1|   555.0|           600|     -5.0|   913.0|           854|     19.0|     B6|   507| N516JB|   EWR| FLL|   158.0|    1065|   6|     0|2013-01-01 06:00:00|     JetBlue Airways|\n",
      "|  7|2013|    1|  1|   557.0|           600|     -3.0|   709.0|           723|    -14.0|     EV|  5708| N829AS|   LGA| IAD|    53.0|     229|   6|     0|2013-01-01 06:00:00|ExpressJet Airlin...|\n",
      "|  8|2013|    1|  1|   557.0|           600|     -3.0|   838.0|           846|     -8.0|     B6|    79| N593JB|   JFK| MCO|   140.0|     944|   6|     0|2013-01-01 06:00:00|     JetBlue Airways|\n",
      "|  9|2013|    1|  1|   558.0|           600|     -2.0|   753.0|           745|      8.0|     AA|   301| N3ALAA|   LGA| ORD|   138.0|     733|   6|     0|2013-01-01 06:00:00|American Airlines...|\n",
      "| 10|2013|    1|  1|   558.0|           600|     -2.0|   849.0|           851|     -2.0|     B6|    49| N793JB|   JFK| PBI|   149.0|    1028|   6|     0|2013-01-01 06:00:00|     JetBlue Airways|\n",
      "| 11|2013|    1|  1|   558.0|           600|     -2.0|   853.0|           856|     -3.0|     B6|    71| N657JB|   JFK| TPA|   158.0|    1005|   6|     0|2013-01-01 06:00:00|     JetBlue Airways|\n",
      "| 12|2013|    1|  1|   558.0|           600|     -2.0|   924.0|           917|      7.0|     UA|   194| N29129|   JFK| LAX|   345.0|    2475|   6|     0|2013-01-01 06:00:00|United Air Lines ...|\n",
      "| 13|2013|    1|  1|   558.0|           600|     -2.0|   923.0|           937|    -14.0|     UA|  1124| N53441|   EWR| SFO|   361.0|    2565|   6|     0|2013-01-01 06:00:00|United Air Lines ...|\n",
      "| 14|2013|    1|  1|   559.0|           600|     -1.0|   941.0|           910|     31.0|     AA|   707| N3DUAA|   LGA| DFW|   257.0|    1389|   6|     0|2013-01-01 06:00:00|American Airlines...|\n",
      "| 15|2013|    1|  1|   559.0|           559|      0.0|   702.0|           706|     -4.0|     B6|  1806| N708JB|   JFK| BOS|    44.0|     187|   5|    59|2013-01-01 05:00:00|     JetBlue Airways|\n",
      "| 16|2013|    1|  1|   559.0|           600|     -1.0|   854.0|           902|     -8.0|     UA|  1187| N76515|   EWR| LAS|   337.0|    2227|   6|     0|2013-01-01 06:00:00|United Air Lines ...|\n",
      "| 17|2013|    1|  1|   600.0|           600|      0.0|   851.0|           858|     -7.0|     B6|   371| N595JB|   LGA| FLL|   152.0|    1076|   6|     0|2013-01-01 06:00:00|     JetBlue Airways|\n",
      "| 18|2013|    1|  1|   600.0|           600|      0.0|   837.0|           825|     12.0|     MQ|  4650| N542MQ|   LGA| ATL|   134.0|     762|   6|     0|2013-01-01 06:00:00|           Envoy Air|\n",
      "| 19|2013|    1|  1|   601.0|           600|      1.0|   844.0|           850|     -6.0|     B6|   343| N644JB|   EWR| PBI|   147.0|    1023|   6|     0|2013-01-01 06:00:00|     JetBlue Airways|\n",
      "+---+----+-----+---+--------+--------------+---------+--------+--------------+---------+-------+------+-------+------+----+--------+--------+----+------+-------------------+--------------------+\n",
      "only showing top 20 rows\n"
     ]
    }
   ],
   "source": [
    "csv_filepath = os.path.join(os.getcwd(), \"airports-database.csv\")\n",
    "\n",
    "df = spark.read.csv(csv_filepath, header=True, inferSchema=True)\n",
    "\n",
    "df.show()"
   ]
  },
  {
   "cell_type": "code",
   "execution_count": 5,
   "id": "a5b061f5",
   "metadata": {},
   "outputs": [
    {
     "name": "stdout",
     "output_type": "stream",
     "text": [
      "root\n",
      " |-- id: integer (nullable = true)\n",
      " |-- year: integer (nullable = true)\n",
      " |-- month: integer (nullable = true)\n",
      " |-- day: integer (nullable = true)\n",
      " |-- dep_time: double (nullable = true)\n",
      " |-- sched_dep_time: integer (nullable = true)\n",
      " |-- dep_delay: double (nullable = true)\n",
      " |-- arr_time: double (nullable = true)\n",
      " |-- sched_arr_time: integer (nullable = true)\n",
      " |-- arr_delay: double (nullable = true)\n",
      " |-- carrier: string (nullable = true)\n",
      " |-- flight: integer (nullable = true)\n",
      " |-- tailnum: string (nullable = true)\n",
      " |-- origin: string (nullable = true)\n",
      " |-- dest: string (nullable = true)\n",
      " |-- air_time: double (nullable = true)\n",
      " |-- distance: integer (nullable = true)\n",
      " |-- hour: integer (nullable = true)\n",
      " |-- minute: integer (nullable = true)\n",
      " |-- time_hour: timestamp (nullable = true)\n",
      " |-- name: string (nullable = true)\n",
      "\n"
     ]
    }
   ],
   "source": [
    "df.printSchema()"
   ]
  },
  {
   "cell_type": "code",
   "execution_count": 6,
   "id": "106552ba",
   "metadata": {},
   "outputs": [
    {
     "data": {
      "text/plain": [
       "336776"
      ]
     },
     "execution_count": 6,
     "metadata": {},
     "output_type": "execute_result"
    }
   ],
   "source": [
    "df.count()"
   ]
  },
  {
   "cell_type": "markdown",
   "id": "2b593de6",
   "metadata": {},
   "source": [
    "## Respostas das perguntas"
   ]
  },
  {
   "cell_type": "markdown",
   "id": "790d40b5",
   "metadata": {},
   "source": [
    "#### 1. Qual o número total de voos no conjunto de dados?"
   ]
  },
  {
   "cell_type": "code",
   "execution_count": 7,
   "id": "0fa9834b",
   "metadata": {},
   "outputs": [
    {
     "name": "stderr",
     "output_type": "stream",
     "text": [
      "                                                                                \r"
     ]
    },
    {
     "data": {
      "text/plain": [
       "3844"
      ]
     },
     "execution_count": 7,
     "metadata": {},
     "output_type": "execute_result"
    }
   ],
   "source": [
    "distinct_flights = df.select('flight').distinct()\n",
    "\n",
    "distinct_flights.dropDuplicates().count()"
   ]
  },
  {
   "cell_type": "markdown",
   "id": "31dc585a",
   "metadata": {},
   "source": [
    "Portanto, o número total é de 3844 voos."
   ]
  },
  {
   "cell_type": "markdown",
   "id": "1fff4543",
   "metadata": {},
   "source": [
    "#### 2. Quantos voos foram cancelados?"
   ]
  },
  {
   "cell_type": "code",
   "execution_count": 8,
   "id": "3ccd8d2d",
   "metadata": {},
   "outputs": [
    {
     "data": {
      "text/plain": [
       "8255"
      ]
     },
     "execution_count": 8,
     "metadata": {},
     "output_type": "execute_result"
    }
   ],
   "source": [
    "\n",
    "df.filter(\n",
    "    (isnan(col('dep_time')) | col('dep_time').isNull()) &\n",
    "    (isnan(col('arr_time')) | col('arr_time').isNull())\n",
    ").count()"
   ]
  },
  {
   "cell_type": "markdown",
   "id": "de2e8339",
   "metadata": {},
   "source": [
    "O número de voos cancelados, considerando a situação onde tanto a coluna `arr_time` quanto `dep_time` são nulos é de 8255 vôos."
   ]
  },
  {
   "cell_type": "markdown",
   "id": "f8bb09b6",
   "metadata": {},
   "source": [
    "#### 3. Quais são os 5 aeroportos com maior número de pousos?"
   ]
  },
  {
   "cell_type": "code",
   "execution_count": 9,
   "id": "b8fdf032",
   "metadata": {},
   "outputs": [
    {
     "name": "stdout",
     "output_type": "stream",
     "text": [
      "5 aeroportos com maior número de pousos:\n"
     ]
    },
    {
     "name": "stderr",
     "output_type": "stream",
     "text": [
      "[Stage 15:=============================>                            (2 + 2) / 4]\r"
     ]
    },
    {
     "name": "stdout",
     "output_type": "stream",
     "text": [
      "+----+-----+\n",
      "|dest|count|\n",
      "+----+-----+\n",
      "| ORD|17283|\n",
      "| ATL|17215|\n",
      "| LAX|16174|\n",
      "| BOS|15508|\n",
      "| MCO|14082|\n",
      "+----+-----+\n",
      "only showing top 5 rows\n"
     ]
    },
    {
     "name": "stderr",
     "output_type": "stream",
     "text": [
      "                                                                                \r"
     ]
    }
   ],
   "source": [
    "res = df.groupBy('dest').count().orderBy(desc('count'))\n",
    "\n",
    "print(\"5 aeroportos com maior número de pousos:\")\n",
    "res.show(5)"
   ]
  },
  {
   "cell_type": "markdown",
   "id": "7f84db66",
   "metadata": {},
   "source": [
    "Assim, temos que os aeroportos com maior número de pousos são: O'Hare International Airport, em Chicago, EUA; Hartsfield-Jackson Atlanta International Airport, em Atlanta, EUA; Los Angeles International Airport, em Los Angeles, EUA; Logan International Airport, em Boston, EUA; Orlando International Airport, em Orlando, EUA."
   ]
  },
  {
   "cell_type": "markdown",
   "id": "ff1c8e5a",
   "metadata": {},
   "source": [
    "#### 4. Qual a rota mais frequente (par origin-dest)?"
   ]
  },
  {
   "cell_type": "code",
   "execution_count": 10,
   "id": "65ced32e",
   "metadata": {},
   "outputs": [
    {
     "name": "stderr",
     "output_type": "stream",
     "text": [
      "[Stage 18:==============>                                           (1 + 3) / 4]\r"
     ]
    },
    {
     "name": "stdout",
     "output_type": "stream",
     "text": [
      "+------+----+-----+\n",
      "|origin|dest|count|\n",
      "+------+----+-----+\n",
      "|   JFK| LAX|11262|\n",
      "+------+----+-----+\n",
      "only showing top 1 row\n"
     ]
    },
    {
     "name": "stderr",
     "output_type": "stream",
     "text": [
      "                                                                                \r"
     ]
    }
   ],
   "source": [
    "df.groupBy(['origin', 'dest']).count().orderBy(desc('count')).show(1)"
   ]
  },
  {
   "cell_type": "markdown",
   "id": "cd384289",
   "metadata": {},
   "source": [
    "Portanto, temos que a rota mais frequênte parte do John F. Kennedy International Airport, em Nova Iorque, EUA, com destino ao Los Angeles International Airport, Los Angeles, EUA."
   ]
  },
  {
   "cell_type": "markdown",
   "id": "4e28617d",
   "metadata": {},
   "source": [
    "#### 5. Quais são as 5 companhias aéreas com maior tempo médio de atraso na chegada?"
   ]
  },
  {
   "cell_type": "code",
   "execution_count": 11,
   "id": "39f5b2a1",
   "metadata": {},
   "outputs": [
    {
     "name": "stdout",
     "output_type": "stream",
     "text": [
      "+-------+------------------+\n",
      "|carrier|        mean_delay|\n",
      "+-------+------------------+\n",
      "|     F9|21.920704845814978|\n",
      "|     FL|20.115905511811025|\n",
      "|     EV| 15.79643108710965|\n",
      "|     YV|15.556985294117647|\n",
      "|     OO|11.931034482758621|\n",
      "+-------+------------------+\n",
      "only showing top 5 rows\n"
     ]
    }
   ],
   "source": [
    "df.groupBy('carrier')\\\n",
    "    .agg(mean('arr_delay').alias('mean_delay'))\\\n",
    "    .orderBy(col('mean_delay').desc()).show(5)\n"
   ]
  },
  {
   "cell_type": "markdown",
   "id": "0aa007b1",
   "metadata": {},
   "source": [
    "Temos evidências de que as 5 companhias aéreas com maior tempo médio de atraso na chegada são:\n",
    "1. Frontier Airlines;\n",
    "2. Fly Play;\n",
    "3. EVA Air;\n",
    "4. Mesa Airlines;\n",
    "5. SkyWest Airlines."
   ]
  },
  {
   "cell_type": "markdown",
   "id": "e812a8dd",
   "metadata": {},
   "source": [
    "#### 6. Qual é o dia da semana com maior número de vôos?"
   ]
  },
  {
   "cell_type": "code",
   "execution_count": 53,
   "id": "75a725cf",
   "metadata": {},
   "outputs": [
    {
     "name": "stderr",
     "output_type": "stream",
     "text": [
      "[Stage 84:==============>                                           (1 + 3) / 4]\r"
     ]
    },
    {
     "name": "stdout",
     "output_type": "stream",
     "text": [
      "+---------+-------------+\n",
      "|  weekday|count_weekday|\n",
      "+---------+-------------+\n",
      "|   Monday|        50690|\n",
      "|  Tuesday|        50422|\n",
      "|   Friday|        50308|\n",
      "| Thursday|        50219|\n",
      "|Wednesday|        50060|\n",
      "|   Sunday|        46357|\n",
      "| Saturday|        38720|\n",
      "+---------+-------------+\n",
      "\n"
     ]
    },
    {
     "name": "stderr",
     "output_type": "stream",
     "text": [
      "                                                                                \r"
     ]
    }
   ],
   "source": [
    "date_df = df.select('year', 'month', 'day').withColumn('date_as_str', concat_ws('-', 'year', 'month', 'day'))\n",
    "date_df = date_df.withColumn('date', to_date('date_as_str', 'yyyy-M-d'))\n",
    "date_df = date_df.withColumn('weekday', date_format('date', 'EEEE'))\n",
    "date_df = date_df.groupBy('weekday').agg(count('*').alias('count_weekday')).orderBy(desc('count_weekday'))\n",
    "date_df.show()"
   ]
  },
  {
   "cell_type": "markdown",
   "id": "c7dfd3af",
   "metadata": {},
   "source": [
    "Portanto, o dia da semana com maior número de voos é a Segunda-Feira."
   ]
  },
  {
   "cell_type": "markdown",
   "id": "2b889ab7",
   "metadata": {},
   "source": [
    "#### 7. Qual a rota que teve maior tempo de vôo médio (air_time)?"
   ]
  },
  {
   "cell_type": "code",
   "execution_count": 12,
   "id": "ab4053ab",
   "metadata": {},
   "outputs": [
    {
     "name": "stderr",
     "output_type": "stream",
     "text": [
      "[Stage 24:===========================================>              (3 + 1) / 4]\r"
     ]
    },
    {
     "name": "stdout",
     "output_type": "stream",
     "text": [
      "+------+----+-----------------+\n",
      "|origin|dest|    mean_air_time|\n",
      "+------+----+-----------------+\n",
      "|   JFK| HNL|623.0877192982456|\n",
      "+------+----+-----------------+\n",
      "only showing top 1 row\n"
     ]
    },
    {
     "name": "stderr",
     "output_type": "stream",
     "text": [
      "                                                                                \r"
     ]
    }
   ],
   "source": [
    "df.groupBy(['origin', 'dest']).agg(mean('air_time').alias('mean_air_time')).orderBy(desc('mean_air_time')).show(1)"
   ]
  },
  {
   "cell_type": "markdown",
   "id": "b1e254d9",
   "metadata": {},
   "source": [
    "A rota com maior tempo de vôo médio é a que parte do John F. Kennedy International Airport, em Nova Iorque, EUA, com destino ao Honolulu International Airport, Honolulu, EUA"
   ]
  },
  {
   "cell_type": "markdown",
   "id": "9da342af",
   "metadata": {},
   "source": [
    "#### 8. Para cada aeroporto de origem, qual é o aeroporto de destino mais comum?"
   ]
  },
  {
   "cell_type": "code",
   "execution_count": null,
   "id": "e4ee927b",
   "metadata": {},
   "outputs": [
    {
     "name": "stderr",
     "output_type": "stream",
     "text": [
      "[Stage 48:=============================>                            (2 + 2) / 4]\r"
     ]
    },
    {
     "name": "stdout",
     "output_type": "stream",
     "text": [
      "+------+----+----------+\n",
      "|origin|dest|count_dest|\n",
      "+------+----+----------+\n",
      "|   EWR| ORD|      6100|\n",
      "|   JFK| LAX|     11262|\n",
      "|   LGA| ATL|     10263|\n",
      "+------+----+----------+\n",
      "\n"
     ]
    },
    {
     "name": "stderr",
     "output_type": "stream",
     "text": [
      "                                                                                \r"
     ]
    }
   ],
   "source": [
    "count_dest = df.groupBy('origin', 'dest').agg(count('*').alias('count_dest'))\n",
    "window_func = Window.partitionBy('origin').orderBy(col('count_dest').desc())\n",
    "\n",
    "wind_count_dest = count_dest.withColumn('pos', row_number().over(window_func))\n",
    "\n",
    "most_common_dest = wind_count_dest.filter(col('pos') == 1).drop('pos')\n",
    "\n",
    "most_common_dest.show()"
   ]
  },
  {
   "cell_type": "markdown",
   "id": "3657c376",
   "metadata": {},
   "source": [
    "Daí, é possível verificar que o destino mais comum é:\n",
    "* O'Hare International Airport, Chicaco, EUA quando saindo de Newark Liberty Airport, Newark, EUA;\n",
    "* John F. Kennedy International Airport, Nova Iorque, EUA quando saindo de Los Angeles International Airport, Los Angeles, EUA;\n",
    "* Atlantic City International Airport, Atlantic City, EUA quando saindo de LaGuardia Airport, Nova Iorque, EUA."
   ]
  },
  {
   "cell_type": "markdown",
   "id": "60602def",
   "metadata": {},
   "source": [
    "#### 9. Quais são as 3 rotas que tiveram maior variação no tempo médio de voo (air_time)?"
   ]
  },
  {
   "cell_type": "code",
   "execution_count": 33,
   "id": "2ff75073",
   "metadata": {},
   "outputs": [
    {
     "name": "stderr",
     "output_type": "stream",
     "text": [
      "[Stage 57:===========================================>              (3 + 1) / 4]\r"
     ]
    },
    {
     "name": "stdout",
     "output_type": "stream",
     "text": [
      "+------+----+--------+--------+---------+\n",
      "|origin|dest|min_time|max_time|variation|\n",
      "+------+----+--------+--------+---------+\n",
      "|   JFK| SFO|   301.0|   490.0|    189.0|\n",
      "|   JFK| LAX|   275.0|   440.0|    165.0|\n",
      "|   JFK| EGE|   219.0|   382.0|    163.0|\n",
      "+------+----+--------+--------+---------+\n",
      "only showing top 3 rows\n"
     ]
    },
    {
     "name": "stderr",
     "output_type": "stream",
     "text": [
      "                                                                                \r"
     ]
    }
   ],
   "source": [
    "df.groupBy('origin', 'dest')\\\n",
    "    .agg(\n",
    "        min('air_time').alias('min_time'),\n",
    "        max('air_time').alias('max_time')\n",
    "    ).withColumn('variation', col('max_time') - col('min_time'))\\\n",
    "    .orderBy(col('variation').desc()).show(3)"
   ]
  },
  {
   "cell_type": "markdown",
   "id": "5d0f2492",
   "metadata": {},
   "source": [
    "Assim, temos as rotas com maior variação no tempo de vôo sendo:\n",
    "* John F. Kennedy International Airport até San Francisco International Airport;\n",
    "* John F. Kennedy International Airport até Los Angeles International Airport;\n",
    "* John F. Kennedy International Airport até Eagle County Regional Airport."
   ]
  },
  {
   "cell_type": "markdown",
   "id": "9cd29ed8",
   "metadata": {},
   "source": [
    "#### 10. Quais são as 3 rotas mais comuns que tiveram atrasos na chegada superiores a 30 minutos?"
   ]
  },
  {
   "cell_type": "code",
   "execution_count": 40,
   "id": "f29646ad",
   "metadata": {},
   "outputs": [
    {
     "name": "stdout",
     "output_type": "stream",
     "text": [
      "+------+----+-----+\n",
      "|origin|dest|delay|\n",
      "+------+----+-----+\n",
      "|   JFK| LAX|11159|\n",
      "|   LGA| ATL|10041|\n",
      "|   LGA| ORD| 8507|\n",
      "+------+----+-----+\n",
      "only showing top 3 rows\n"
     ]
    }
   ],
   "source": [
    "df.groupby('origin', 'dest').agg(count(col('arr_delay') > 30).alias('delay')).orderBy(desc('delay')).show(3)"
   ]
  },
  {
   "cell_type": "markdown",
   "id": "ee7c5080",
   "metadata": {},
   "source": [
    "Portanto, as rotas são:\n",
    "* John F. Kennedy International Airport até Los Angeles International Airport;\n",
    "* LaGuardia Airport até Hartsfield-Jackson Atlanta International Airport;\n",
    "* LaGuardia Airport até O'Hare International Airport"
   ]
  }
 ],
 "metadata": {
  "kernelspec": {
   "display_name": "case-mle",
   "language": "python",
   "name": "python3"
  },
  "language_info": {
   "codemirror_mode": {
    "name": "ipython",
    "version": 3
   },
   "file_extension": ".py",
   "mimetype": "text/x-python",
   "name": "python",
   "nbconvert_exporter": "python",
   "pygments_lexer": "ipython3",
   "version": "3.13.7"
  }
 },
 "nbformat": 4,
 "nbformat_minor": 5
}
