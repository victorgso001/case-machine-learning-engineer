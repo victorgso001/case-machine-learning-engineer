{
 "cells": [
  {
   "cell_type": "markdown",
   "id": "fbfacdc3",
   "metadata": {},
   "source": [
    "# Case - Machine Learning Engineer - Criação de Modelo"
   ]
  },
  {
   "cell_type": "markdown",
   "id": "df8be3ff",
   "metadata": {},
   "source": [
    "Este trabalho servirá de base para criação do modelo para previsão de atrasos de vôos, que será usado como case de uso de dados para vaga de Machine Learning Engineer. O projeto de análise dos dados está no arquivo `Notebook.ipynb`, disponível neste repositório. Como será apenas para ilustrar o processo, não serão feitas análises profundas dos dados. A proposta deste modelo será prever o atraso na chegada de um vôo (`arr_delay`) baseado em outros dados dos vôos"
   ]
  },
  {
   "cell_type": "markdown",
   "id": "4d51d38b",
   "metadata": {},
   "source": [
    "## Import de bibliotecas e dados"
   ]
  },
  {
   "cell_type": "code",
   "execution_count": 2,
   "id": "9df427b5",
   "metadata": {},
   "outputs": [],
   "source": [
    "from pyspark.sql import SparkSession\n",
    "from pyspark.sql.functions import count, when, isnan, col\n",
    "from pyspark.ml.regression import LinearRegression\n",
    "from pyspark.ml.evaluation import RegressionEvaluator\n",
    "import os\n",
    "import pickle"
   ]
  },
  {
   "cell_type": "code",
   "execution_count": 3,
   "id": "61f1205a",
   "metadata": {},
   "outputs": [
    {
     "name": "stderr",
     "output_type": "stream",
     "text": [
      "WARNING: Using incubator modules: jdk.incubator.vector\n",
      "Using Spark's default log4j profile: org/apache/spark/log4j2-defaults.properties\n",
      "25/10/25 11:45:53 WARN Utils: Your hostname, Notebook, resolves to a loopback address: 127.0.1.1; using 10.255.255.254 instead (on interface lo)\n",
      "25/10/25 11:45:53 WARN Utils: Set SPARK_LOCAL_IP if you need to bind to another address\n",
      "Using Spark's default log4j profile: org/apache/spark/log4j2-defaults.properties\n",
      "Setting default log level to \"WARN\".\n",
      "To adjust logging level use sc.setLogLevel(newLevel). For SparkR, use setLogLevel(newLevel).\n",
      "25/10/25 11:45:55 WARN NativeCodeLoader: Unable to load native-hadoop library for your platform... using builtin-java classes where applicable\n"
     ]
    }
   ],
   "source": [
    "spark=SparkSession.builder.config(\n",
    "    \"spark.driver.bindAddress\", \"localhost\"\n",
    "    ).config(\n",
    "        \"spark.network.timeout\",\"10000000\"\n",
    "    ).config(\n",
    "        \"spark.executor.heartbeatInterval\", \"10000000\"\n",
    "    ).appName(\"MLE Case\").getOrCreate()"
   ]
  },
  {
   "cell_type": "code",
   "execution_count": 4,
   "id": "300ec59d",
   "metadata": {},
   "outputs": [
    {
     "name": "stderr",
     "output_type": "stream",
     "text": [
      "                                                                                \r"
     ]
    },
    {
     "name": "stdout",
     "output_type": "stream",
     "text": [
      "+----+----------+------+---+----+-----+---+--------+--------------+---------+--------+--------------+---------+-------+------+-------+--------+--------+----+------+-------------------+--------------------+-------------------+-----------------+---------------+\n",
      "|dest|      date|origin| id|year|month|day|dep_time|sched_dep_time|dep_delay|arr_time|sched_arr_time|arr_delay|carrier|flight|tailnum|air_time|distance|hour|minute|          time_hour|                name|        date_as_str|wind_speed_origin|wind_speed_dest|\n",
      "+----+----------+------+---+----+-----+---+--------+--------------+---------+--------+--------------+---------+-------+------+-------+--------+--------+----+------+-------------------+--------------------+-------------------+-----------------+---------------+\n",
      "| IAH|2013-01-01|   EWR|  0|2013|    1|  1|   517.0|           515|      2.0|   830.0|           819|     11.0|     UA|  1545| N14228|   227.0|    1400|   5|    15|2013-01-01 05:00:00|United Air Lines ...|2013-01-01 00:00:00|             19.4|           19.1|\n",
      "| IAH|2013-01-01|   LGA|  1|2013|    1|  1|   533.0|           529|      4.0|   850.0|           830|     20.0|     UA|  1714| N24211|   227.0|    1416|   5|    29|2013-01-01 05:00:00|United Air Lines ...|2013-01-01 00:00:00|             22.5|           19.1|\n",
      "| MIA|2013-01-01|   JFK|  2|2013|    1|  1|   542.0|           540|      2.0|   923.0|           850|     33.0|     AA|  1141| N619AA|   160.0|    1089|   5|    40|2013-01-01 05:00:00|American Airlines...|2013-01-01 00:00:00|             22.5|           23.2|\n",
      "| BQN|2013-01-01|   JFK|  3|2013|    1|  1|   544.0|           545|     -1.0|  1004.0|          1022|    -18.0|     B6|   725| N804JB|   183.0|    1576|   5|    45|2013-01-01 05:00:00|     JetBlue Airways|2013-01-01 00:00:00|             22.5|           16.5|\n",
      "| ATL|2013-01-01|   LGA|  4|2013|    1|  1|   554.0|           600|     -6.0|   812.0|           837|    -25.0|     DL|   461| N668DN|   116.0|     762|   6|     0|2013-01-01 06:00:00|Delta Air Lines Inc.|2013-01-01 00:00:00|             22.5|           13.8|\n",
      "| ORD|2013-01-01|   EWR|  5|2013|    1|  1|   554.0|           558|     -4.0|   740.0|           728|     12.0|     UA|  1696| N39463|   150.0|     719|   5|    58|2013-01-01 05:00:00|United Air Lines ...|2013-01-01 00:00:00|             19.4|           14.8|\n",
      "| FLL|2013-01-01|   EWR|  6|2013|    1|  1|   555.0|           600|     -5.0|   913.0|           854|     19.0|     B6|   507| N516JB|   158.0|    1065|   6|     0|2013-01-01 06:00:00|     JetBlue Airways|2013-01-01 00:00:00|             19.4|           22.2|\n",
      "| IAD|2013-01-01|   LGA|  7|2013|    1|  1|   557.0|           600|     -3.0|   709.0|           723|    -14.0|     EV|  5708| N829AS|    53.0|     229|   6|     0|2013-01-01 06:00:00|ExpressJet Airlin...|2013-01-01 00:00:00|             22.5|           11.7|\n",
      "| MCO|2013-01-01|   JFK|  8|2013|    1|  1|   557.0|           600|     -3.0|   838.0|           846|     -8.0|     B6|    79| N593JB|   140.0|     944|   6|     0|2013-01-01 06:00:00|     JetBlue Airways|2013-01-01 00:00:00|             22.5|           15.3|\n",
      "| ORD|2013-01-01|   LGA|  9|2013|    1|  1|   558.0|           600|     -2.0|   753.0|           745|      8.0|     AA|   301| N3ALAA|   138.0|     733|   6|     0|2013-01-01 06:00:00|American Airlines...|2013-01-01 00:00:00|             22.5|           14.8|\n",
      "| PBI|2013-01-01|   JFK| 10|2013|    1|  1|   558.0|           600|     -2.0|   849.0|           851|     -2.0|     B6|    49| N793JB|   149.0|    1028|   6|     0|2013-01-01 06:00:00|     JetBlue Airways|2013-01-01 00:00:00|             22.5|           19.8|\n",
      "| TPA|2013-01-01|   JFK| 11|2013|    1|  1|   558.0|           600|     -2.0|   853.0|           856|     -3.0|     B6|    71| N657JB|   158.0|    1005|   6|     0|2013-01-01 06:00:00|     JetBlue Airways|2013-01-01 00:00:00|             22.5|           15.2|\n",
      "| LAX|2013-01-01|   JFK| 12|2013|    1|  1|   558.0|           600|     -2.0|   924.0|           917|      7.0|     UA|   194| N29129|   345.0|    2475|   6|     0|2013-01-01 06:00:00|United Air Lines ...|2013-01-01 00:00:00|             22.5|            9.4|\n",
      "| SFO|2013-01-01|   EWR| 13|2013|    1|  1|   558.0|           600|     -2.0|   923.0|           937|    -14.0|     UA|  1124| N53441|   361.0|    2565|   6|     0|2013-01-01 06:00:00|United Air Lines ...|2013-01-01 00:00:00|             19.4|           18.6|\n",
      "| DFW|2013-01-01|   LGA| 14|2013|    1|  1|   559.0|           600|     -1.0|   941.0|           910|     31.0|     AA|   707| N3DUAA|   257.0|    1389|   6|     0|2013-01-01 06:00:00|American Airlines...|2013-01-01 00:00:00|             22.5|           18.5|\n",
      "| BOS|2013-01-01|   JFK| 15|2013|    1|  1|   559.0|           559|      0.0|   702.0|           706|     -4.0|     B6|  1806| N708JB|    44.0|     187|   5|    59|2013-01-01 05:00:00|     JetBlue Airways|2013-01-01 00:00:00|             22.5|           24.6|\n",
      "| LAS|2013-01-01|   EWR| 16|2013|    1|  1|   559.0|           600|     -1.0|   854.0|           902|     -8.0|     UA|  1187| N76515|   337.0|    2227|   6|     0|2013-01-01 06:00:00|United Air Lines ...|2013-01-01 00:00:00|             19.4|           14.8|\n",
      "| FLL|2013-01-01|   LGA| 17|2013|    1|  1|   600.0|           600|      0.0|   851.0|           858|     -7.0|     B6|   371| N595JB|   152.0|    1076|   6|     0|2013-01-01 06:00:00|     JetBlue Airways|2013-01-01 00:00:00|             22.5|           22.2|\n",
      "| ATL|2013-01-01|   LGA| 18|2013|    1|  1|   600.0|           600|      0.0|   837.0|           825|     12.0|     MQ|  4650| N542MQ|   134.0|     762|   6|     0|2013-01-01 06:00:00|           Envoy Air|2013-01-01 00:00:00|             22.5|           13.8|\n",
      "| PBI|2013-01-01|   EWR| 19|2013|    1|  1|   601.0|           600|      1.0|   844.0|           850|     -6.0|     B6|   343| N644JB|   147.0|    1023|   6|     0|2013-01-01 06:00:00|     JetBlue Airways|2013-01-01 00:00:00|             19.4|           19.8|\n",
      "+----+----------+------+---+----+-----+---+--------+--------------+---------+--------+--------------+---------+-------+------+-------+--------+--------+----+------+-------------------+--------------------+-------------------+-----------------+---------------+\n",
      "only showing top 20 rows\n"
     ]
    }
   ],
   "source": [
    "df = spark.read.csv('./airports_database_extended.csv', header=True, inferSchema=True)\n",
    "\n",
    "df.show()"
   ]
  },
  {
   "cell_type": "code",
   "execution_count": 5,
   "id": "0c34db4a",
   "metadata": {},
   "outputs": [
    {
     "name": "stderr",
     "output_type": "stream",
     "text": [
      "25/10/25 11:46:10 WARN SparkStringUtils: Truncated the string representation of a plan since it was too large. This behavior can be adjusted by setting 'spark.sql.debug.maxToStringFields'.\n",
      "[Stage 3:=============================>                             (2 + 2) / 4]\r"
     ]
    },
    {
     "name": "stdout",
     "output_type": "stream",
     "text": [
      "+-------+------+------+-----------------+------+------------------+-----------------+------------------+------------------+------------------+------------------+-----------------+-----------------+-------+------------------+-------+------------------+------------------+------------------+------------------+--------------------+------------------+------------------+\n",
      "|summary|  dest|origin|               id|  year|             month|              day|          dep_time|    sched_dep_time|         dep_delay|          arr_time|   sched_arr_time|        arr_delay|carrier|            flight|tailnum|          air_time|          distance|              hour|            minute|                name| wind_speed_origin|   wind_speed_dest|\n",
      "+-------+------+------+-----------------+------+------------------+-----------------+------------------+------------------+------------------+------------------+-----------------+-----------------+-------+------------------+-------+------------------+------------------+------------------+------------------+--------------------+------------------+------------------+\n",
      "|  count|336776|336776|           336776|336776|            336776|           336776|            328521|            336776|            328521|            328063|           336776|           327346| 336776|            336776| 334264|            327346|            336776|            336776|            336776|              336776|            336776|            336522|\n",
      "|   mean|  NULL|  NULL|         168387.5|2013.0| 6.548509988835309|15.71078699194717|1349.1099473093045|1344.2548400123524|12.639070257304708|1502.0549985825894|1536.380220086942| 6.89537675731489|   NULL|1971.9236198541464|   NULL|150.68646019807787|1039.9126036297123|13.180247404803193| 26.23009953203316|                NULL|18.667359313016128|17.110938363614796|\n",
      "| stddev|  NULL|  NULL|97219.00146576285|   0.0|3.4144572446788977|8.768607101536876| 488.2817910011613| 467.3357557342088| 40.21006089213004| 533.2641319903768|497.4571415143935|44.63329169019413|   NULL| 1632.471938139311|   NULL| 93.68830465900983| 733.2330333236773| 4.661315707848439|19.300845657412925|                NULL| 6.409952596089817| 6.000991494602789|\n",
      "|    min|   ABQ|   EWR|                0|  2013|                 1|                1|               1.0|               106|             -43.0|               1.0|                1|            -86.0|     9E|                 1| D942DN|              20.0|                17|                 1|                 0|AirTran Airways C...|               5.5|               3.3|\n",
      "|    max|   XNA|   LGA|           336775|  2013|                12|               31|            2400.0|              2359|            1301.0|            2400.0|             2359|           1272.0|     YV|              8500| N9EAMQ|             695.0|              4983|                23|                59|      Virgin America|              55.3|              62.2|\n",
      "+-------+------+------+-----------------+------+------------------+-----------------+------------------+------------------+------------------+------------------+-----------------+-----------------+-------+------------------+-------+------------------+------------------+------------------+------------------+--------------------+------------------+------------------+\n",
      "\n"
     ]
    },
    {
     "name": "stderr",
     "output_type": "stream",
     "text": [
      "                                                                                \r"
     ]
    }
   ],
   "source": [
    "df.describe().show()"
   ]
  },
  {
   "cell_type": "markdown",
   "id": "69c8fe96",
   "metadata": {},
   "source": [
    "Selecionando variáveis numéricas para análise de correlação."
   ]
  },
  {
   "cell_type": "code",
   "execution_count": 6,
   "id": "c834d99d",
   "metadata": {},
   "outputs": [
    {
     "name": "stdout",
     "output_type": "stream",
     "text": [
      "+--------+--------------+---------+--------------+--------+-----------------+---------------+---------+\n",
      "|dep_time|sched_dep_time|dep_delay|sched_arr_time|distance|wind_speed_origin|wind_speed_dest|arr_delay|\n",
      "+--------+--------------+---------+--------------+--------+-----------------+---------------+---------+\n",
      "|   517.0|           515|      2.0|           819|    1400|             19.4|           19.1|     11.0|\n",
      "|   533.0|           529|      4.0|           830|    1416|             22.5|           19.1|     20.0|\n",
      "|   542.0|           540|      2.0|           850|    1089|             22.5|           23.2|     33.0|\n",
      "|   544.0|           545|     -1.0|          1022|    1576|             22.5|           16.5|    -18.0|\n",
      "|   554.0|           600|     -6.0|           837|     762|             22.5|           13.8|    -25.0|\n",
      "|   554.0|           558|     -4.0|           728|     719|             19.4|           14.8|     12.0|\n",
      "|   555.0|           600|     -5.0|           854|    1065|             19.4|           22.2|     19.0|\n",
      "|   557.0|           600|     -3.0|           723|     229|             22.5|           11.7|    -14.0|\n",
      "|   557.0|           600|     -3.0|           846|     944|             22.5|           15.3|     -8.0|\n",
      "|   558.0|           600|     -2.0|           745|     733|             22.5|           14.8|      8.0|\n",
      "|   558.0|           600|     -2.0|           851|    1028|             22.5|           19.8|     -2.0|\n",
      "|   558.0|           600|     -2.0|           856|    1005|             22.5|           15.2|     -3.0|\n",
      "|   558.0|           600|     -2.0|           917|    2475|             22.5|            9.4|      7.0|\n",
      "|   558.0|           600|     -2.0|           937|    2565|             19.4|           18.6|    -14.0|\n",
      "|   559.0|           600|     -1.0|           910|    1389|             22.5|           18.5|     31.0|\n",
      "|   559.0|           559|      0.0|           706|     187|             22.5|           24.6|     -4.0|\n",
      "|   559.0|           600|     -1.0|           902|    2227|             19.4|           14.8|     -8.0|\n",
      "|   600.0|           600|      0.0|           858|    1076|             22.5|           22.2|     -7.0|\n",
      "|   600.0|           600|      0.0|           825|     762|             22.5|           13.8|     12.0|\n",
      "|   601.0|           600|      1.0|           850|    1023|             19.4|           19.8|     -6.0|\n",
      "+--------+--------------+---------+--------------+--------+-----------------+---------------+---------+\n",
      "only showing top 20 rows\n"
     ]
    }
   ],
   "source": [
    "selected_df = df.select(\n",
    "    'dep_time', 'sched_dep_time', 'dep_delay', 'sched_arr_time', 'distance', 'wind_speed_origin', 'wind_speed_dest', 'arr_delay'\n",
    ")\n",
    "\n",
    "selected_df.show()"
   ]
  },
  {
   "cell_type": "markdown",
   "id": "2bdb9c8a",
   "metadata": {},
   "source": [
    "## Análise de correlação de variáveis"
   ]
  },
  {
   "cell_type": "code",
   "execution_count": 7,
   "id": "af44b70f",
   "metadata": {},
   "outputs": [
    {
     "name": "stdout",
     "output_type": "stream",
     "text": [
      "+--------+--------------+---------+--------------+--------+-----------------+---------------+---------+\n",
      "|dep_time|sched_dep_time|dep_delay|sched_arr_time|distance|wind_speed_origin|wind_speed_dest|arr_delay|\n",
      "+--------+--------------+---------+--------------+--------+-----------------+---------------+---------+\n",
      "|    8255|             0|     8255|             0|       0|                0|            254|     9430|\n",
      "+--------+--------------+---------+--------------+--------+-----------------+---------------+---------+\n",
      "\n"
     ]
    }
   ],
   "source": [
    "selected_df.select([count(when(isnan(c) | col(c).isNull(), c)).alias(c) for c in selected_df.columns]).show()"
   ]
  },
  {
   "cell_type": "code",
   "execution_count": 8,
   "id": "153726bb",
   "metadata": {},
   "outputs": [
    {
     "data": {
      "text/plain": [
       "336776"
      ]
     },
     "execution_count": 8,
     "metadata": {},
     "output_type": "execute_result"
    }
   ],
   "source": [
    "selected_df.count()"
   ]
  },
  {
   "cell_type": "markdown",
   "id": "1549dfd1",
   "metadata": {},
   "source": [
    "Dada a quantidade de valores nulos em relação ao universo de dados, é seguro remover as linhas com valores nulos dos dados."
   ]
  },
  {
   "cell_type": "code",
   "execution_count": 9,
   "id": "3cb65e99",
   "metadata": {},
   "outputs": [
    {
     "name": "stdout",
     "output_type": "stream",
     "text": [
      "+--------+--------------+---------+--------------+--------+-----------------+---------------+---------+\n",
      "|dep_time|sched_dep_time|dep_delay|sched_arr_time|distance|wind_speed_origin|wind_speed_dest|arr_delay|\n",
      "+--------+--------------+---------+--------------+--------+-----------------+---------------+---------+\n",
      "|       0|             0|        0|             0|       0|                0|              0|        0|\n",
      "+--------+--------------+---------+--------------+--------+-----------------+---------------+---------+\n",
      "\n"
     ]
    }
   ],
   "source": [
    "cleaned_df = selected_df.dropna()\n",
    "\n",
    "cleaned_df.select([count(when(isnan(c) | col(c).isNull(), c)).alias(c) for c in cleaned_df.columns]).show()"
   ]
  },
  {
   "cell_type": "code",
   "execution_count": 10,
   "id": "a2bd0717",
   "metadata": {},
   "outputs": [
    {
     "name": "stderr",
     "output_type": "stream",
     "text": [
      "                                                                                \r"
     ]
    },
    {
     "data": {
      "text/html": [
       "<style type=\"text/css\">\n",
       "#T_ab871_row0_col0, #T_ab871_row1_col1, #T_ab871_row2_col2, #T_ab871_row3_col3, #T_ab871_row4_col4, #T_ab871_row5_col5, #T_ab871_row6_col6, #T_ab871_row7_col7 {\n",
       "  background-color: #b40426;\n",
       "  color: #f1f1f1;\n",
       "}\n",
       "#T_ab871_row0_col1, #T_ab871_row1_col0 {\n",
       "  background-color: #c43032;\n",
       "  color: #f1f1f1;\n",
       "}\n",
       "#T_ab871_row0_col2, #T_ab871_row0_col7 {\n",
       "  background-color: #96b7ff;\n",
       "  color: #000000;\n",
       "}\n",
       "#T_ab871_row0_col3, #T_ab871_row3_col0 {\n",
       "  background-color: #f08a6c;\n",
       "  color: #f1f1f1;\n",
       "}\n",
       "#T_ab871_row0_col4, #T_ab871_row1_col4 {\n",
       "  background-color: #485fd1;\n",
       "  color: #f1f1f1;\n",
       "}\n",
       "#T_ab871_row0_col5, #T_ab871_row1_col5, #T_ab871_row3_col5 {\n",
       "  background-color: #3e51c5;\n",
       "  color: #f1f1f1;\n",
       "}\n",
       "#T_ab871_row0_col6, #T_ab871_row1_col6 {\n",
       "  background-color: #4358cb;\n",
       "  color: #f1f1f1;\n",
       "}\n",
       "#T_ab871_row1_col2 {\n",
       "  background-color: #81a4fb;\n",
       "  color: #f1f1f1;\n",
       "}\n",
       "#T_ab871_row1_col3, #T_ab871_row3_col1 {\n",
       "  background-color: #f08b6e;\n",
       "  color: #f1f1f1;\n",
       "}\n",
       "#T_ab871_row1_col7 {\n",
       "  background-color: #82a6fb;\n",
       "  color: #f1f1f1;\n",
       "}\n",
       "#T_ab871_row2_col0 {\n",
       "  background-color: #94b6ff;\n",
       "  color: #000000;\n",
       "}\n",
       "#T_ab871_row2_col1 {\n",
       "  background-color: #7ea1fa;\n",
       "  color: #f1f1f1;\n",
       "}\n",
       "#T_ab871_row2_col3 {\n",
       "  background-color: #7295f4;\n",
       "  color: #f1f1f1;\n",
       "}\n",
       "#T_ab871_row2_col4 {\n",
       "  background-color: #455cce;\n",
       "  color: #f1f1f1;\n",
       "}\n",
       "#T_ab871_row2_col5 {\n",
       "  background-color: #465ecf;\n",
       "  color: #f1f1f1;\n",
       "}\n",
       "#T_ab871_row2_col6 {\n",
       "  background-color: #4e68d8;\n",
       "  color: #f1f1f1;\n",
       "}\n",
       "#T_ab871_row2_col7 {\n",
       "  background-color: #d0473d;\n",
       "  color: #f1f1f1;\n",
       "}\n",
       "#T_ab871_row3_col2 {\n",
       "  background-color: #7396f5;\n",
       "  color: #f1f1f1;\n",
       "}\n",
       "#T_ab871_row3_col4 {\n",
       "  background-color: #6282ea;\n",
       "  color: #f1f1f1;\n",
       "}\n",
       "#T_ab871_row3_col6, #T_ab871_row5_col1, #T_ab871_row6_col4 {\n",
       "  background-color: #4055c8;\n",
       "  color: #f1f1f1;\n",
       "}\n",
       "#T_ab871_row3_col7, #T_ab871_row7_col1 {\n",
       "  background-color: #7699f6;\n",
       "  color: #f1f1f1;\n",
       "}\n",
       "#T_ab871_row4_col0, #T_ab871_row4_col1, #T_ab871_row4_col2, #T_ab871_row4_col5, #T_ab871_row4_col6, #T_ab871_row4_col7, #T_ab871_row6_col3, #T_ab871_row7_col4 {\n",
       "  background-color: #3b4cc0;\n",
       "  color: #f1f1f1;\n",
       "}\n",
       "#T_ab871_row4_col3 {\n",
       "  background-color: #5572df;\n",
       "  color: #f1f1f1;\n",
       "}\n",
       "#T_ab871_row5_col0, #T_ab871_row5_col3 {\n",
       "  background-color: #4257c9;\n",
       "  color: #f1f1f1;\n",
       "}\n",
       "#T_ab871_row5_col2 {\n",
       "  background-color: #4b64d5;\n",
       "  color: #f1f1f1;\n",
       "}\n",
       "#T_ab871_row5_col4 {\n",
       "  background-color: #4a63d3;\n",
       "  color: #f1f1f1;\n",
       "}\n",
       "#T_ab871_row5_col6 {\n",
       "  background-color: #90b2fe;\n",
       "  color: #000000;\n",
       "}\n",
       "#T_ab871_row5_col7 {\n",
       "  background-color: #5e7de7;\n",
       "  color: #f1f1f1;\n",
       "}\n",
       "#T_ab871_row6_col0 {\n",
       "  background-color: #3d50c3;\n",
       "  color: #f1f1f1;\n",
       "}\n",
       "#T_ab871_row6_col1 {\n",
       "  background-color: #3c4ec2;\n",
       "  color: #f1f1f1;\n",
       "}\n",
       "#T_ab871_row6_col2 {\n",
       "  background-color: #4961d2;\n",
       "  color: #f1f1f1;\n",
       "}\n",
       "#T_ab871_row6_col5 {\n",
       "  background-color: #89acfd;\n",
       "  color: #000000;\n",
       "}\n",
       "#T_ab871_row6_col7 {\n",
       "  background-color: #5b7ae5;\n",
       "  color: #f1f1f1;\n",
       "}\n",
       "#T_ab871_row7_col0 {\n",
       "  background-color: #8badfd;\n",
       "  color: #000000;\n",
       "}\n",
       "#T_ab871_row7_col2 {\n",
       "  background-color: #d1493f;\n",
       "  color: #f1f1f1;\n",
       "}\n",
       "#T_ab871_row7_col3 {\n",
       "  background-color: #688aef;\n",
       "  color: #f1f1f1;\n",
       "}\n",
       "#T_ab871_row7_col5 {\n",
       "  background-color: #4f69d9;\n",
       "  color: #f1f1f1;\n",
       "}\n",
       "#T_ab871_row7_col6 {\n",
       "  background-color: #5470de;\n",
       "  color: #f1f1f1;\n",
       "}\n",
       "</style>\n",
       "<table id=\"T_ab871\">\n",
       "  <thead>\n",
       "    <tr>\n",
       "      <th class=\"blank level0\" >&nbsp;</th>\n",
       "      <th id=\"T_ab871_level0_col0\" class=\"col_heading level0 col0\" >dep_time</th>\n",
       "      <th id=\"T_ab871_level0_col1\" class=\"col_heading level0 col1\" >sched_dep_time</th>\n",
       "      <th id=\"T_ab871_level0_col2\" class=\"col_heading level0 col2\" >dep_delay</th>\n",
       "      <th id=\"T_ab871_level0_col3\" class=\"col_heading level0 col3\" >sched_arr_time</th>\n",
       "      <th id=\"T_ab871_level0_col4\" class=\"col_heading level0 col4\" >distance</th>\n",
       "      <th id=\"T_ab871_level0_col5\" class=\"col_heading level0 col5\" >wind_speed_origin</th>\n",
       "      <th id=\"T_ab871_level0_col6\" class=\"col_heading level0 col6\" >wind_speed_dest</th>\n",
       "      <th id=\"T_ab871_level0_col7\" class=\"col_heading level0 col7\" >arr_delay</th>\n",
       "    </tr>\n",
       "  </thead>\n",
       "  <tbody>\n",
       "    <tr>\n",
       "      <th id=\"T_ab871_level0_row0\" class=\"row_heading level0 row0\" >dep_time</th>\n",
       "      <td id=\"T_ab871_row0_col0\" class=\"data row0 col0\" >1.000000</td>\n",
       "      <td id=\"T_ab871_row0_col1\" class=\"data row0 col1\" >0.954766</td>\n",
       "      <td id=\"T_ab871_row0_col2\" class=\"data row0 col2\" >0.259762</td>\n",
       "      <td id=\"T_ab871_row0_col3\" class=\"data row0 col3\" >0.784117</td>\n",
       "      <td id=\"T_ab871_row0_col4\" class=\"data row0 col4\" >-0.015255</td>\n",
       "      <td id=\"T_ab871_row0_col5\" class=\"data row0 col5\" >0.008701</td>\n",
       "      <td id=\"T_ab871_row0_col6\" class=\"data row0 col6\" >-0.005661</td>\n",
       "      <td id=\"T_ab871_row0_col7\" class=\"data row0 col7\" >0.232551</td>\n",
       "    </tr>\n",
       "    <tr>\n",
       "      <th id=\"T_ab871_level0_row1\" class=\"row_heading level0 row1\" >sched_dep_time</th>\n",
       "      <td id=\"T_ab871_row1_col0\" class=\"data row1 col0\" >0.954766</td>\n",
       "      <td id=\"T_ab871_row1_col1\" class=\"data row1 col1\" >1.000000</td>\n",
       "      <td id=\"T_ab871_row1_col2\" class=\"data row1 col2\" >0.199092</td>\n",
       "      <td id=\"T_ab871_row1_col3\" class=\"data row1 col3\" >0.780229</td>\n",
       "      <td id=\"T_ab871_row1_col4\" class=\"data row1 col4\" >-0.014110</td>\n",
       "      <td id=\"T_ab871_row1_col5\" class=\"data row1 col5\" >0.008104</td>\n",
       "      <td id=\"T_ab871_row1_col6\" class=\"data row1 col6\" >-0.006484</td>\n",
       "      <td id=\"T_ab871_row1_col7\" class=\"data row1 col7\" >0.174154</td>\n",
       "    </tr>\n",
       "    <tr>\n",
       "      <th id=\"T_ab871_level0_row2\" class=\"row_heading level0 row2\" >dep_delay</th>\n",
       "      <td id=\"T_ab871_row2_col0\" class=\"data row2 col0\" >0.259762</td>\n",
       "      <td id=\"T_ab871_row2_col1\" class=\"data row2 col1\" >0.199092</td>\n",
       "      <td id=\"T_ab871_row2_col2\" class=\"data row2 col2\" >1.000000</td>\n",
       "      <td id=\"T_ab871_row2_col3\" class=\"data row2 col3\" >0.160643</td>\n",
       "      <td id=\"T_ab871_row2_col4\" class=\"data row2 col4\" >-0.021719</td>\n",
       "      <td id=\"T_ab871_row2_col5\" class=\"data row2 col5\" >0.036042</td>\n",
       "      <td id=\"T_ab871_row2_col6\" class=\"data row2 col6\" >0.028489</td>\n",
       "      <td id=\"T_ab871_row2_col7\" class=\"data row2 col7\" >0.914911</td>\n",
       "    </tr>\n",
       "    <tr>\n",
       "      <th id=\"T_ab871_level0_row3\" class=\"row_heading level0 row3\" >sched_arr_time</th>\n",
       "      <td id=\"T_ab871_row3_col0\" class=\"data row3 col0\" >0.784117</td>\n",
       "      <td id=\"T_ab871_row3_col1\" class=\"data row3 col1\" >0.780229</td>\n",
       "      <td id=\"T_ab871_row3_col2\" class=\"data row3 col2\" >0.160643</td>\n",
       "      <td id=\"T_ab871_row3_col3\" class=\"data row3 col3\" >1.000000</td>\n",
       "      <td id=\"T_ab871_row3_col4\" class=\"data row3 col4\" >0.072480</td>\n",
       "      <td id=\"T_ab871_row3_col5\" class=\"data row3 col5\" >0.007940</td>\n",
       "      <td id=\"T_ab871_row3_col6\" class=\"data row3 col6\" >-0.016481</td>\n",
       "      <td id=\"T_ab871_row3_col7\" class=\"data row3 col7\" >0.133491</td>\n",
       "    </tr>\n",
       "    <tr>\n",
       "      <th id=\"T_ab871_level0_row4\" class=\"row_heading level0 row4\" >distance</th>\n",
       "      <td id=\"T_ab871_row4_col0\" class=\"data row4 col0\" >-0.015255</td>\n",
       "      <td id=\"T_ab871_row4_col1\" class=\"data row4 col1\" >-0.014110</td>\n",
       "      <td id=\"T_ab871_row4_col2\" class=\"data row4 col2\" >-0.021719</td>\n",
       "      <td id=\"T_ab871_row4_col3\" class=\"data row4 col3\" >0.072480</td>\n",
       "      <td id=\"T_ab871_row4_col4\" class=\"data row4 col4\" >1.000000</td>\n",
       "      <td id=\"T_ab871_row4_col5\" class=\"data row4 col5\" >-0.006084</td>\n",
       "      <td id=\"T_ab871_row4_col6\" class=\"data row4 col6\" >-0.037328</td>\n",
       "      <td id=\"T_ab871_row4_col7\" class=\"data row4 col7\" >-0.061870</td>\n",
       "    </tr>\n",
       "    <tr>\n",
       "      <th id=\"T_ab871_level0_row5\" class=\"row_heading level0 row5\" >wind_speed_origin</th>\n",
       "      <td id=\"T_ab871_row5_col0\" class=\"data row5 col0\" >0.008701</td>\n",
       "      <td id=\"T_ab871_row5_col1\" class=\"data row5 col1\" >0.008104</td>\n",
       "      <td id=\"T_ab871_row5_col2\" class=\"data row5 col2\" >0.036042</td>\n",
       "      <td id=\"T_ab871_row5_col3\" class=\"data row5 col3\" >0.007940</td>\n",
       "      <td id=\"T_ab871_row5_col4\" class=\"data row5 col4\" >-0.006084</td>\n",
       "      <td id=\"T_ab871_row5_col5\" class=\"data row5 col5\" >1.000000</td>\n",
       "      <td id=\"T_ab871_row5_col6\" class=\"data row5 col6\" >0.234047</td>\n",
       "      <td id=\"T_ab871_row5_col7\" class=\"data row5 col7\" >0.060788</td>\n",
       "    </tr>\n",
       "    <tr>\n",
       "      <th id=\"T_ab871_level0_row6\" class=\"row_heading level0 row6\" >wind_speed_dest</th>\n",
       "      <td id=\"T_ab871_row6_col0\" class=\"data row6 col0\" >-0.005661</td>\n",
       "      <td id=\"T_ab871_row6_col1\" class=\"data row6 col1\" >-0.006484</td>\n",
       "      <td id=\"T_ab871_row6_col2\" class=\"data row6 col2\" >0.028489</td>\n",
       "      <td id=\"T_ab871_row6_col3\" class=\"data row6 col3\" >-0.016481</td>\n",
       "      <td id=\"T_ab871_row6_col4\" class=\"data row6 col4\" >-0.037328</td>\n",
       "      <td id=\"T_ab871_row6_col5\" class=\"data row6 col5\" >0.234047</td>\n",
       "      <td id=\"T_ab871_row6_col6\" class=\"data row6 col6\" >1.000000</td>\n",
       "      <td id=\"T_ab871_row6_col7\" class=\"data row6 col7\" >0.050715</td>\n",
       "    </tr>\n",
       "    <tr>\n",
       "      <th id=\"T_ab871_level0_row7\" class=\"row_heading level0 row7\" >arr_delay</th>\n",
       "      <td id=\"T_ab871_row7_col0\" class=\"data row7 col0\" >0.232551</td>\n",
       "      <td id=\"T_ab871_row7_col1\" class=\"data row7 col1\" >0.174154</td>\n",
       "      <td id=\"T_ab871_row7_col2\" class=\"data row7 col2\" >0.914911</td>\n",
       "      <td id=\"T_ab871_row7_col3\" class=\"data row7 col3\" >0.133491</td>\n",
       "      <td id=\"T_ab871_row7_col4\" class=\"data row7 col4\" >-0.061870</td>\n",
       "      <td id=\"T_ab871_row7_col5\" class=\"data row7 col5\" >0.060788</td>\n",
       "      <td id=\"T_ab871_row7_col6\" class=\"data row7 col6\" >0.050715</td>\n",
       "      <td id=\"T_ab871_row7_col7\" class=\"data row7 col7\" >1.000000</td>\n",
       "    </tr>\n",
       "  </tbody>\n",
       "</table>\n"
      ],
      "text/plain": [
       "<pandas.io.formats.style.Styler at 0x77f6cb6b0590>"
      ]
     },
     "execution_count": 10,
     "metadata": {},
     "output_type": "execute_result"
    }
   ],
   "source": [
    "from pyspark.ml.feature import VectorAssembler\n",
    "from pyspark.ml.stat import Correlation\n",
    "import pandas as pd\n",
    "\n",
    "assembler = VectorAssembler(inputCols=cleaned_df.columns, outputCol='corr_features')\n",
    "df_vector = assembler.transform(cleaned_df).select('corr_features')\n",
    "\n",
    "pearson_corr = Correlation.corr(df_vector, 'corr_features', method='pearson').collect()[0][0]\n",
    "\n",
    "corr_matrix = pearson_corr.toArray().tolist()\n",
    "corr_matrix_df = pd.DataFrame(data=corr_matrix, columns=cleaned_df.columns, index=cleaned_df.columns)\n",
    "corr_matrix_df.style.background_gradient(cmap='coolwarm')\n"
   ]
  },
  {
   "cell_type": "markdown",
   "id": "55811b34",
   "metadata": {},
   "source": [
    "Verifica-se que o atraso de partida está diretamente correlacionado com o atraso de chegada, enquanto que a velocidade do vento e a distância, pela correlação de Pearson, aparenta não ter nenhuma relação com o atraso de chegada. No entanto, algumas outras variáveis estão diretamente correlacionadas entre si. Como este modelo é um modelo ilustrativo, todas as variáveis escolhidas serão usadas para estimar o atraso de chegada."
   ]
  },
  {
   "cell_type": "markdown",
   "id": "b4e8ae38",
   "metadata": {},
   "source": [
    "## Criação do Modelo"
   ]
  },
  {
   "cell_type": "markdown",
   "id": "d63ab47a",
   "metadata": {},
   "source": [
    "O modelo escolhido será um modelo de regressão linear múltipla. A escolha dessa abordagem é dada devido à sua simplicidade e robustez, que podem trazer bons resultados com um custo computacional relativamente baixo."
   ]
  },
  {
   "cell_type": "code",
   "execution_count": 11,
   "id": "e2ad8541",
   "metadata": {},
   "outputs": [],
   "source": [
    "assembler = VectorAssembler(inputCols=[\n",
    "    'dep_time', 'sched_dep_time', 'dep_delay', 'sched_arr_time',\n",
    "    'distance', 'wind_speed_origin', 'wind_speed_dest'\n",
    "    ],\n",
    "    outputCol='features'\n",
    ")\n",
    "\n",
    "assembler_data = assembler.transform(cleaned_df)\n",
    "model_df = assembler_data.select('features', 'arr_delay')\n",
    "\n",
    "train_df, test_df = model_df.randomSplit([0.75, 0.25], seed=42)"
   ]
  },
  {
   "cell_type": "code",
   "execution_count": 18,
   "id": "66c2503a",
   "metadata": {},
   "outputs": [
    {
     "name": "stdout",
     "output_type": "stream",
     "text": [
      "+--------------------+---------+\n",
      "|            features|arr_delay|\n",
      "+--------------------+---------+\n",
      "|[1.0,2359.0,2.0,4...|      2.0|\n",
      "|[3.0,1946.0,257.0...|    258.0|\n",
      "|[3.0,2159.0,124.0...|    114.0|\n",
      "|[3.0,2250.0,73.0,...|     75.0|\n",
      "|[4.0,2359.0,5.0,4...|    -15.0|\n",
      "|[6.0,2300.0,66.0,...|     64.0|\n",
      "|[7.0,2359.0,8.0,4...|     16.0|\n",
      "|[10.0,2137.0,153....|    171.0|\n",
      "|[10.0,2359.0,11.0...|     -4.0|\n",
      "|[11.0,2229.0,102....|     93.0|\n",
      "|[11.0,2359.0,12.0...|     -9.0|\n",
      "|[11.0,2359.0,12.0...|     -8.0|\n",
      "|[14.0,2359.0,15.0...|     18.0|\n",
      "|[16.0,2111.0,185....|    208.0|\n",
      "|[16.0,2159.0,137....|    130.0|\n",
      "|[16.0,2359.0,17.0...|     33.0|\n",
      "|[16.0,2359.0,17.0...|      3.0|\n",
      "|[17.0,2359.0,18.0...|      6.0|\n",
      "|[22.0,2159.0,143....|    128.0|\n",
      "|[27.0,2035.0,232....|    220.0|\n",
      "+--------------------+---------+\n",
      "only showing top 20 rows\n"
     ]
    },
    {
     "name": "stderr",
     "output_type": "stream",
     "text": [
      "                                                                                \r"
     ]
    }
   ],
   "source": [
    "test_df.show()"
   ]
  },
  {
   "cell_type": "code",
   "execution_count": 12,
   "id": "9d2dff51",
   "metadata": {},
   "outputs": [
    {
     "name": "stderr",
     "output_type": "stream",
     "text": [
      "25/10/25 11:46:25 WARN Instrumentation: [22d447bb] regParam is zero, which might cause numerical instability and overfitting.\n",
      "                                                                                \r"
     ]
    }
   ],
   "source": [
    "lin_reg = LinearRegression(featuresCol='features', labelCol='arr_delay', predictionCol='predicted_arr_delay')\n",
    "lin_reg_model = lin_reg.fit(train_df)"
   ]
  },
  {
   "cell_type": "markdown",
   "id": "8c5b8e07",
   "metadata": {},
   "source": [
    "## Teste do modelo"
   ]
  },
  {
   "cell_type": "code",
   "execution_count": 13,
   "id": "0a8bd4c6",
   "metadata": {},
   "outputs": [
    {
     "name": "stderr",
     "output_type": "stream",
     "text": [
      "                                                                                \r"
     ]
    },
    {
     "name": "stdout",
     "output_type": "stream",
     "text": [
      "Métrica RMSE: 17.82709415236725\n",
      "Métrica R2: 0.8403795009534463\n"
     ]
    },
    {
     "name": "stderr",
     "output_type": "stream",
     "text": [
      "                                                                                \r"
     ]
    }
   ],
   "source": [
    "pred = lin_reg_model.transform(test_df)\n",
    "\n",
    "eval_rmse = RegressionEvaluator(labelCol='arr_delay', predictionCol='predicted_arr_delay', metricName='rmse')\n",
    "rmse = eval_rmse.evaluate(pred)\n",
    "\n",
    "eval_r2 = RegressionEvaluator(labelCol='arr_delay', predictionCol='predicted_arr_delay', metricName='r2')\n",
    "r2 = eval_r2.evaluate(pred)\n",
    "\n",
    "print(f\"Métrica RMSE: {rmse}\")\n",
    "print(f\"Métrica R2: {r2}\")"
   ]
  },
  {
   "cell_type": "markdown",
   "id": "57080c95",
   "metadata": {},
   "source": [
    "Temos então um RMSE de 17.82, e um R2 de 84%, o que indica um bom desempenho do modelo, apesar de não ser ótimo. Algumas outras abordagens poderiam ser tomadas, como normalização de variáveis, adicionar variáveis categóricas discretizadas, que poderiam aumentar a eficácia do modelo. No entanto, somente com essa abordagem, podemos seguir para os próximos passos do case. Vamos salvar o modelo para prosseguir."
   ]
  },
  {
   "cell_type": "markdown",
   "id": "ef844507",
   "metadata": {},
   "source": [
    "## Salvando modelo em formato .pkl"
   ]
  },
  {
   "cell_type": "code",
   "execution_count": 15,
   "id": "d0b1ade8",
   "metadata": {},
   "outputs": [],
   "source": [
    "coef = lin_reg_model.coefficients\n",
    "intercept = lin_reg_model.intercept\n",
    "\n",
    "model_params = {\n",
    "    'coefficients': coef,\n",
    "    'intercept': intercept\n",
    "}\n",
    "\n",
    "model_name = 'linreg_model_case_params.pkl'\n",
    "\n",
    "model_path = os.path.join(os.path.dirname(os.getcwd()), 'src', 'model')\n",
    "\n",
    "model_path = os.path.join(model_path, model_name)\n",
    "\n",
    "with open(model_path, 'wb') as file:\n",
    "    pickle.dump(model_params, file)"
   ]
  }
 ],
 "metadata": {
  "kernelspec": {
   "display_name": "case-mle",
   "language": "python",
   "name": "python3"
  },
  "language_info": {
   "codemirror_mode": {
    "name": "ipython",
    "version": 3
   },
   "file_extension": ".py",
   "mimetype": "text/x-python",
   "name": "python",
   "nbconvert_exporter": "python",
   "pygments_lexer": "ipython3",
   "version": "3.13.7"
  }
 },
 "nbformat": 4,
 "nbformat_minor": 5
}
